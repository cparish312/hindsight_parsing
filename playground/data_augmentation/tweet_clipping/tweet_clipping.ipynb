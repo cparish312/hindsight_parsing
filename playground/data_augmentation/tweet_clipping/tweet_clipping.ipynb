{
 "cells": [
  {
   "cell_type": "code",
   "execution_count": 55,
   "metadata": {},
   "outputs": [],
   "source": [
    "import os\n",
    "import shutil\n",
    "import random\n",
    "\n",
    "from PIL import Image, ImageDraw"
   ]
  },
  {
   "cell_type": "code",
   "execution_count": 2,
   "metadata": {},
   "outputs": [],
   "source": [
    "project_dir = \"./data/tweet_parse-2024-09-18-18-04-7d5636ed/\""
   ]
  },
  {
   "cell_type": "code",
   "execution_count": 4,
   "metadata": {},
   "outputs": [],
   "source": [
    "def save_org_dir(d):\n",
    "    org_dir = d + \"_org\"\n",
    "    if not os.path.exists(org_dir):\n",
    "        shutil.copytree(d, org_dir)\n",
    "\n",
    "labels_dir = os.path.join(project_dir, \"labels\")\n",
    "images_dir = os.path.join(project_dir, \"images\")\n",
    "\n",
    "save_org_dir(labels_dir)\n",
    "save_org_dir(images_dir)"
   ]
  },
  {
   "cell_type": "code",
   "execution_count": 205,
   "metadata": {},
   "outputs": [],
   "source": [
    "def get_bottom_cut_labels(labels_f, cut_point, img_height):\n",
    "    new_labels_data = []\n",
    "    with open(labels_f, 'r') as infile:\n",
    "        for line in infile.readlines():\n",
    "            label_id, x_center, y_center, width, height = line.split()\n",
    "            y_center, height = float(y_center), float(height)\n",
    "\n",
    "            # Convert normalized values to actual pixel values\n",
    "            actual_y_center = y_center * img_height\n",
    "            actual_height = height * img_height\n",
    "\n",
    "            # New height of the image after the cut\n",
    "            new_img_height = cut_point * img_height\n",
    "\n",
    "            # Check if the bottom of the bounding box is below the cut line\n",
    "            if actual_y_center + actual_height/2 > new_img_height:\n",
    "                # Adjust the height of the bounding box if part of it is below the cut\n",
    "                if actual_y_center - actual_height/2 < new_img_height:\n",
    "                    new_height = (new_img_height - (actual_y_center - actual_height/2)) / new_img_height\n",
    "                    new_y_center = (actual_y_center - actual_height/2 + new_height * new_img_height / 2) / new_img_height\n",
    "                    new_line = f\"{label_id} {x_center} {new_y_center} {width} {new_height}\\n\"\n",
    "                    new_labels_data.append(new_line)\n",
    "            else:\n",
    "                # If the entire bounding box is above the cut, normalize to the new image height\n",
    "                new_y_center = actual_y_center / new_img_height\n",
    "                new_height = height * img_height / new_img_height\n",
    "                new_line = f\"{label_id} {x_center} {new_y_center} {width} {new_height}\\n\"\n",
    "                new_labels_data.append(new_line)\n",
    "\n",
    "    return new_labels_data\n",
    "\n",
    "def get_top_cut_labels(labels_f, cut_point, img_height):\n",
    "    new_labels_data = []\n",
    "    with open(labels_f, 'r') as infile:\n",
    "        for line in infile.readlines():\n",
    "            label_id, x_center, y_center, width, height = line.split()\n",
    "            y_center, height = float(y_center), float(height)\n",
    "\n",
    "            # Convert normalized values to actual pixel values\n",
    "            actual_y_center = y_center * img_height\n",
    "            actual_height = height * img_height\n",
    "\n",
    "            # Calculate the actual top and bottom of the bounding box\n",
    "            box_bottom = actual_y_center + actual_height / 2\n",
    "            box_top = actual_y_center - actual_height / 2\n",
    "\n",
    "            # New height of the image after the cut\n",
    "            new_img_height = img_height * (1 - cut_point)\n",
    "\n",
    "            # Adjust labels if at least the bottom of the bounding box is below the cut line\n",
    "            if box_bottom >= cut_point * img_height:\n",
    "                # Normalize y_center and height to the new image height\n",
    "                new_y_center = (actual_y_center - cut_point * img_height) / new_img_height\n",
    "                new_height = actual_height / new_img_height\n",
    "                if new_y_center - new_height / 2 < 0:\n",
    "                    new_y_bottom = new_y_center + new_height / 2\n",
    "                    new_y_center = new_y_bottom / 2\n",
    "                    new_height = new_y_bottom\n",
    "                new_line = f\"{label_id} {x_center} {new_y_center} {width} {new_height}\\n\"\n",
    "                new_labels_data.append(new_line)\n",
    "\n",
    "    return new_labels_data\n",
    "\n"
   ]
  },
  {
   "cell_type": "code",
   "execution_count": 274,
   "metadata": {},
   "outputs": [],
   "source": [
    "for im_path in os.listdir(images_dir):\n",
    "    for _ in range(3):\n",
    "        im = Image.open(os.path.join(images_dir, im_path))\n",
    "        labels_path = os.path.join(labels_dir, im_path.replace('.jpg', '.txt'))\n",
    "        cut_point = round(random.uniform(0.3, 0.7), 2)\n",
    "        bottom_cut = random.randint(0, 1)\n",
    "        if bottom_cut:\n",
    "            bottom_y_thresh = im.height * cut_point\n",
    "            cut_im = im.crop([0, 0, im.width, bottom_y_thresh])\n",
    "            new_labels_data = get_bottom_cut_labels(labels_path, cut_point=cut_point, img_height=im.height)\n",
    "        else:\n",
    "            top_y_thresh = im.height * cut_point\n",
    "            cut_im = im.crop([0, top_y_thresh, im.width, im.height])\n",
    "            new_labels_data = get_top_cut_labels(labels_path, cut_point=cut_point, img_height=im.height)\n",
    "        \n",
    "        new_im_name = f\"{im_path.split('.')[0]}_{cut_point}_{bottom_cut}\"\n",
    "        cut_im.save(os.path.join(images_dir, new_im_name + \".jpg\"))\n",
    "        with open(os.path.join(labels_dir, new_im_name + \".txt\"), 'w') as outfile:\n",
    "            for new_line in new_labels_data:\n",
    "                outfile.write(new_line)"
   ]
  },
  {
   "cell_type": "code",
   "execution_count": 270,
   "metadata": {},
   "outputs": [],
   "source": [
    "cut_im_c = cut_im.copy()\n",
    "draw = ImageDraw.Draw(cut_im_c)\n",
    "for l in new_labels_data:\n",
    "    l_s = [float(v) for v in l.strip().split(\" \")]\n",
    "    x_center, y_center, width, height = l_s[1], l_s[2], l_s[3], l_s[4]\n",
    "    x1 = (x_center - width/2) * cut_im_c.width\n",
    "    y1 = (y_center - height/2) * cut_im_c.height\n",
    "    x2 = (x_center + width/2) * cut_im_c.width\n",
    "    y2 = (y_center + height/2) * cut_im_c.height\n",
    "    draw.rectangle((x1, y1, x2, y2), outline=\"red\", width=5)"
   ]
  },
  {
   "cell_type": "code",
   "execution_count": 271,
   "metadata": {},
   "outputs": [],
   "source": [
    "cut_im_c.show()"
   ]
  },
  {
   "cell_type": "code",
   "execution_count": 130,
   "metadata": {},
   "outputs": [],
   "source": [
    "with open(labels_path, 'r') as infile:\n",
    "    labels_data = list()\n",
    "    for line in infile.readlines():\n",
    "        labels_data.append(line)"
   ]
  },
  {
   "cell_type": "code",
   "execution_count": 139,
   "metadata": {},
   "outputs": [],
   "source": [
    "im_c = im.copy()\n",
    "draw = ImageDraw.Draw(im_c)\n",
    "for l in labels_data:\n",
    "    l_s = [float(v) for v in l.strip().split(\" \")]\n",
    "    x_center, y_center, width, height = l_s[1], l_s[2], l_s[3], l_s[4]\n",
    "    x1 = (x_center - width/2) * im_c.width\n",
    "    y1 = (y_center - height/2) * im_c.height\n",
    "    x2 = (x_center + width/2) * im_c.width\n",
    "    y2 = (y_center + height/2) * im_c.height\n",
    "    draw.rectangle((x1, y1, x2, y2), outline=\"red\", width=5)"
   ]
  },
  {
   "cell_type": "code",
   "execution_count": 140,
   "metadata": {},
   "outputs": [],
   "source": [
    "im_c.show()"
   ]
  },
  {
   "cell_type": "code",
   "execution_count": 179,
   "metadata": {},
   "outputs": [
    {
     "data": {
      "text/plain": [
       "857.6636703490432"
      ]
     },
     "execution_count": 179,
     "metadata": {},
     "output_type": "execute_result"
    }
   ],
   "source": [
    "y2"
   ]
  }
 ],
 "metadata": {
  "kernelspec": {
   "display_name": "hindsight_server",
   "language": "python",
   "name": "python3"
  },
  "language_info": {
   "codemirror_mode": {
    "name": "ipython",
    "version": 3
   },
   "file_extension": ".py",
   "mimetype": "text/x-python",
   "name": "python",
   "nbconvert_exporter": "python",
   "pygments_lexer": "ipython3",
   "version": "3.10.14"
  }
 },
 "nbformat": 4,
 "nbformat_minor": 2
}
