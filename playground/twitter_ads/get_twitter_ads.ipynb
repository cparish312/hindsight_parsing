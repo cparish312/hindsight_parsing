{
 "cells": [
  {
   "cell_type": "code",
   "execution_count": 1,
   "metadata": {},
   "outputs": [
    {
     "name": "stderr",
     "output_type": "stream",
     "text": [
      "/Users/connorparish/miniconda3/envs/hindsight_server/lib/python3.10/site-packages/tqdm/auto.py:21: TqdmWarning: IProgress not found. Please update jupyter and ipywidgets. See https://ipywidgets.readthedocs.io/en/stable/user_install.html\n",
      "  from .autonotebook import tqdm as notebook_tqdm\n"
     ]
    }
   ],
   "source": [
    "import os\n",
    "import shutil\n",
    "import random\n",
    "import json\n",
    "from PIL import Image\n",
    "import pandas as pd\n",
    "from datetime import datetime, timedelta\n",
    "\n",
    "import matplotlib.pyplot as plt\n",
    "\n",
    "from bertopic import BERTopic\n",
    "\n",
    "from bertopic.representation import KeyBERTInspired\n",
    "from bertopic.representation import PartOfSpeech\n",
    "from bertopic.representation import MaximalMarginalRelevance\n",
    "\n",
    "import sys\n",
    "sys.path.insert(0, \"../../\")\n",
    "sys.path.insert(0, \"../../../hindsight/hindsight_server/\")\n",
    "from annotation_helpers import add_hindsight_frame_path, get_entity_image, visualize_annotations, get_entity_image\n",
    "from annotations_db import HindsightAnnotationsDB\n",
    "\n",
    "from db import HindsightDB\n",
    "from utils import make_dir, ocr_results_to_str, add_datetimes"
   ]
  },
  {
   "cell_type": "code",
   "execution_count": 2,
   "metadata": {},
   "outputs": [],
   "source": [
    "annotations_db = HindsightAnnotationsDB()"
   ]
  },
  {
   "cell_type": "code",
   "execution_count": 3,
   "metadata": {},
   "outputs": [],
   "source": [
    "annotations = annotations_db.get_annotations()"
   ]
  },
  {
   "cell_type": "code",
   "execution_count": 4,
   "metadata": {},
   "outputs": [],
   "source": [
    "tweets_df = pd.read_csv(\"all_tweets-1727230360.csv\")\n",
    "tweets_df = add_datetimes(tweets_df)\n",
    "tweets_df = tweets_df.dropna(subset=['tweet_text'])\n",
    "# tweets_df = tweets_df.drop_duplicates(subset=['tweet_text'], keep=\"first\")"
   ]
  },
  {
   "cell_type": "code",
   "execution_count": 5,
   "metadata": {},
   "outputs": [],
   "source": [
    "extracted_tweet_ads_dir = \"../../data/extracted_entities/tweets/ads/\"\n",
    "os.makedirs(extracted_tweet_ads_dir, exist_ok=True)"
   ]
  },
  {
   "cell_type": "code",
   "execution_count": 6,
   "metadata": {},
   "outputs": [],
   "source": [
    "twitter_ads = tweets_df.loc[~tweets_df['ad_icon'].isnull()]"
   ]
  },
  {
   "cell_type": "code",
   "execution_count": 7,
   "metadata": {},
   "outputs": [],
   "source": [
    "# parent_annotations = annotations.loc[~annotations['frame_id'].isnull()]\n",
    "# id_to_frame_id = { i: int(f) for i, f in zip(parent_annotations['id'], parent_annotations['frame_id'])}\n",
    "# twitter_ads['frame_id'] = twitter_ads['parent_annotations_id'].map(id_to_frame_id)"
   ]
  },
  {
   "cell_type": "code",
   "execution_count": 8,
   "metadata": {},
   "outputs": [],
   "source": [
    "twitter_ads_annotations = annotations.loc[annotations['id'].isin(set(twitter_ads['parent_annotations_id']))]\n",
    "twitter_ads_annotations['x2'] = twitter_ads_annotations['x'] + twitter_ads_annotations['w']\n",
    "twitter_ads_annotations['y2'] = twitter_ads_annotations['y'] + twitter_ads_annotations['h']"
   ]
  },
  {
   "cell_type": "code",
   "execution_count": 9,
   "metadata": {},
   "outputs": [],
   "source": [
    "for i, row in twitter_ads_annotations.iterrows():\n",
    "    im = get_entity_image(row)\n",
    "    ad_save_path = os.path.join(extracted_tweet_ads_dir, f\"twitter_ad_{row['frame_id']}_{row['id']}.jpg\")\n",
    "    im.save(ad_save_path)"
   ]
  },
  {
   "cell_type": "code",
   "execution_count": null,
   "metadata": {},
   "outputs": [],
   "source": []
  }
 ],
 "metadata": {
  "kernelspec": {
   "display_name": "hindsight_server",
   "language": "python",
   "name": "python3"
  },
  "language_info": {
   "codemirror_mode": {
    "name": "ipython",
    "version": 3
   },
   "file_extension": ".py",
   "mimetype": "text/x-python",
   "name": "python",
   "nbconvert_exporter": "python",
   "pygments_lexer": "ipython3",
   "version": "3.10.14"
  }
 },
 "nbformat": 4,
 "nbformat_minor": 2
}
