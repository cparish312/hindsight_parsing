{
 "cells": [
  {
   "cell_type": "code",
   "execution_count": 1,
   "metadata": {},
   "outputs": [
    {
     "name": "stderr",
     "output_type": "stream",
     "text": [
      "/Users/connorparish/miniconda3/envs/hindsight_server/lib/python3.10/site-packages/tqdm/auto.py:21: TqdmWarning: IProgress not found. Please update jupyter and ipywidgets. See https://ipywidgets.readthedocs.io/en/stable/user_install.html\n",
      "  from .autonotebook import tqdm as notebook_tqdm\n"
     ]
    }
   ],
   "source": [
    "import pandas as pd\n",
    "\n",
    "import mlx.core as mx\n",
    "from outlines import generate, models"
   ]
  },
  {
   "cell_type": "code",
   "execution_count": 2,
   "metadata": {},
   "outputs": [],
   "source": [
    "tweets_with_topics = pd.read_csv(\"topic_modeled_tweets.csv\")"
   ]
  },
  {
   "cell_type": "code",
   "execution_count": 3,
   "metadata": {},
   "outputs": [],
   "source": [
    "def get_prompt(topic_df):\n",
    "    # all_text = \"\\nNew Document: \\n\".join(topic_df['Document'])\n",
    "    all_text = \"\\n\".join(topic_df['Document'])\n",
    "\n",
    "    return f\"\"\"\n",
    "    You are an assistant who generates search queries for an embedding search database to help a user find content of interest.\n",
    "\n",
    "    Below is content that has been on the user's screen recently:\n",
    "\n",
    "    {all_text}\n",
    "\n",
    "    Task:\n",
    "        - Analyze the content above.\n",
    "        - Identify the main themes and topics.\n",
    "        - Generate a single, concise sentence that summarizes the user's interests.\n",
    "        - Include as many relevant keywords and concepts from the content as possible.\n",
    "        - The sentence should be suitable as a search query for finding similar content. \n",
    "\n",
    "    Return a JSON object with the following structure:\n",
    "    {{\n",
    "        \"query\": \"sentence for querying the embedding search database\",\n",
    "        \"highlights\": \"Quick list of highlights used to generate the query\",\n",
    "        \"quality\": \"float between 0 and 1 estimating the quality of the generated query for finding content of interest\"\n",
    "    }}\n",
    "\n",
    "    Rules:\n",
    "    - Do not add backticks to the JSON eg \\`\\`\\`json\\`\\`\\` is WRONG\n",
    "    - DO NOT RETURN ANYTHING BUT JSON. NO COMMENTS BELOW THE JSON.\n",
    "    \"\"\""
   ]
  },
  {
   "cell_type": "code",
   "execution_count": 4,
   "metadata": {},
   "outputs": [],
   "source": [
    "json_schema = \"\"\"\n",
    "    {\n",
    "    \"type\": \"object\",\n",
    "    \"properties\": {\n",
    "        \"query\": {\"type\": \"string\"},\n",
    "        \"highlights\": {\"type\": \"string\"},\n",
    "        \"quality\" : {\"type\" : \"number\"}\n",
    "    }\n",
    "}\n",
    "\"\"\""
   ]
  },
  {
   "cell_type": "code",
   "execution_count": 5,
   "metadata": {},
   "outputs": [],
   "source": [
    "LLM_MODEL_NAME = \"mlx-community/Llama-3.2-3B-Instruct\""
   ]
  },
  {
   "cell_type": "code",
   "execution_count": 6,
   "metadata": {},
   "outputs": [
    {
     "name": "stderr",
     "output_type": "stream",
     "text": [
      "Fetching 7 files: 100%|██████████| 7/7 [00:00<00:00, 98855.65it/s]\n"
     ]
    }
   ],
   "source": [
    "mlx_model = models.mlxlm(LLM_MODEL_NAME)\n",
    "generator = generate.json(mlx_model, json_schema)"
   ]
  },
  {
   "cell_type": "code",
   "execution_count": 7,
   "metadata": {},
   "outputs": [],
   "source": [
    "topic_df = tweets_with_topics.loc[tweets_with_topics['Topic'] ==  1]"
   ]
  },
  {
   "cell_type": "code",
   "execution_count": 8,
   "metadata": {},
   "outputs": [],
   "source": [
    "prompt = get_prompt(topic_df=topic_df)"
   ]
  },
  {
   "cell_type": "code",
   "execution_count": 9,
   "metadata": {},
   "outputs": [
    {
     "name": "stdout",
     "output_type": "stream",
     "text": [
      "\n",
      "    You are an assistant who generates search queries for an embedding search database to help a user find content of interest.\n",
      "\n",
      "    Below is content that has been on the user's screen recently:\n",
      "\n",
      "    She needs to leave his ass FAST\n",
      "how tf did this man have angelina jolie acting like this (1)\n",
      "how tf did this man have angelina jolie acting like this t\n",
      "Taylor Swift emits 8,205 tons of CO2 in a year. An average American emits 16. This is who lectures us on the climate.\n",
      "taylor was in that ugly ass blazer getting down\n",
      "no way katy perry and doechii just scissored each other on stage\n",
      "\"I have a husband\"\n",
      "\"I have a husband\" \n",
      "You can't date her unless you are okay with waking up next to a little boyfriend, a little fem girlfriend, or an androgynous partner... depending on the day. We have a mental illness epidemic in this country.\n",
      "Groom sees his best friend in wedding dress\n",
      "She doesn't like nice guys\n",
      "Mila Kunis has been cast in 'KNIVES OUT 3' (Source: Deadline)\n",
      "When did you realize that your partner was not, in fact, \"the one\"?\n",
      "She washed her feet before she cooked I am proud of her because she's not allowing her disability to hender her!\n",
      "i wonder where she is now\n",
      "Laughing at making an old woman fall and get hurt. SHAME ON YOU.\n",
      "Lmao sis said, \"who can't hear will feel\"\n",
      "Prettiest Actresses of all time A thread\n",
      "She did loyal test on her man, only to find out she's not even the girlfriend\n",
      "She's a keeper\n",
      "The most believed celebrity rumors A thread\n",
      "People were asked \"how did you find out your partner was cheating on you\" and the replies bruh (A Thread\n",
      "Margot Robbie realized this fan was hearing impaired so she freed up her hands to talk to him in sign language\n",
      "If this woman becomes the first daughter, we're fucked as a country. Just look at her. This cannot become a role model to young woman. She looks like a hobbit and a Starbucks barista had a baby and it was born through the hobbit's rectum.\n",
      "Her: he's out cheating on me Him with the boys:\n",
      "Oh, she's fucking insane for this one. I LOVE.\n",
      "people who worship celebrities need to be pu behind bars Forth 1 News @Forth1News • 2d Taylor Swift fever grips Edinburgh, as fans descend on Murrayfield ahead of the weekend... And this, is just the merch queue!\n",
      "She ain't give a FUCK & will 100% do it again\n",
      "Queen Elizabeth ruled Britain for more than 70 years, becoming the longest-serving monarch in British history due to her diplomatic skills. Her life was full of scandals, from secret affairs & meetings with spies to internal family drama till her death at 97. Let's uncover Show more\n",
      "Pregnant woman just found out her boyfriend of 7yrs got into an accident on a secret vacation with her bestie. She paid for the $6,000 vacation and he took the lover instead. She found out because they got into a motorcycle accident on vacation and the family made a gofund.\n",
      "I'm convinced dating him is part of some humiliation ritual Everything Out Of Context & Pete Davidson has started a relationshi with actress Jenna Ortega (SOURCE: MVT) \n",
      "\"My wife and I went out to dinner and left our oldest daughter to look after our youngest. We got home late and found them like this.\"\n",
      "I feel so bad for him, she straight up denied him & their relationship at first\n",
      "till this day we don't know what she saw 1)\n",
      "She asked him to speak louder and he did!\n",
      "gotta be the worst shit she ever did\n",
      "a thread of how margot robbie actually look in real life\n",
      "Look at her sneakers. She is a brand new druggie. Rescue her and fix her before night falls and more damage is done. Location is somewhere in Philadelphia.\n",
      "Gaga Crave 11 years ago, lady gaga left the vmas early to go and comfort one direction back stage afte they got booed by the audience.\n",
      "Way to stay calm but also assert you concern. She saved that woman.»\n",
      "her pretending she's not on the jumbo screen is KILLING me\n",
      "She cheated on him and was using him for the game, so he decided to smash the ball and take all the money, leaving her with nothing\n",
      "This is Mia Khalifa. After just 12 videos she got 3.7B views and became the world's #1 p**n star. Then she quit and exposed shocking truths behind the industry. Here are my top 4:\n",
      "Lady shares how rel messed her up\n",
      "Jay Motty Saw that Wayne Lineker was trending after getting punched in Ibiza - so it's an excuse to remind ourselves of his tribute to the Queen. It's what her Maj would've wanted.\n",
      "I'm so fucking dumb i'm just realizing that the movement she does when she says \"espresso\" is as if she's holding an espresso martini and not just like a random choreography step\n",
      "He ruined the bathroom and his marriage\n",
      "When your wife says she's with her girlfriends but her girlfriends are with you\n",
      "MARGOT ROBBIE WOW\n",
      "Heiaw Yikes! Would you break up over this?\n",
      "Rihanna knows kayra who went viral for her hair designs and became the muse for many artists,\n",
      "10 years ago today, taylor swift stopped to meet a young fan on her way out of the gym\n",
      "He wanted to lighten his wife's burden a little.\n",
      "i understand why she marked her territory like this now.\n",
      "She knows her short king\n",
      "This was supposed to be her espresso\n",
      "Sabrina Carpenter reacts to a mother's TikTok of her son singing the explicit line in 'Please Please Please': \"just dropped the clean version i am so sorry\"\n",
      "Mother: Son, where the hell was your head when you decided to get involved with that crazy woman? Son:\n",
      "Taylor Swift is Elon Musk for women and i will not be elaborating further anthony @qetention • 1d she stuck her tounge thinking she ate im\n",
      "She definitely done this before\n",
      "wyd in this situation?\n",
      "this is my girlfriend don't look her in the eyes or she'll bite\n",
      "Oh I miss the queen.... I remember where I was. Now they lying on my sister.\n",
      "Girlfriend hires Pl on boyfriend because she thinks he's cheating. Just to find out he's getting food and watching a movie by himsel\n",
      "HAT???? nigga sabrina and taylor are besties and ur hating on taylor???\n",
      "she's exactly right\n",
      "She caught her husband cheating on the baby monitor\n",
      "this is millie bobby brown now????\n",
      "She's a real one!\n",
      "could watch her do this for hours\n",
      "Bro found out his girlfriend cheating on him while she's driving him. Its an evil world we live in\n",
      "celebrity worship kinda crazy because she looks like a regular ass person here\n",
      "Natural way of birthing is in the squat position to create a straight downward and out trajectory. NOT lying flat in the back! That is torture J. Western medicine is nonsense\n",
      "the way she's constantly looking back to see if he's okay while he's chasing her...\n",
      "I just met her \"gay\" best friend and he a 6\"5 dread head gang what do I do\n",
      "This mom of 10 has her 11th baby on the way...\n",
      "This is the worst thing I've ever seen in my life. Some women ain't good ppl. Pray for Tristan bro, he don't deserve this Imao\n",
      "I'd toss her around like a crash dummy\n",
      "I have never heard her voice be this deep\n",
      "Kaka's ex wife reveals the reason she divorced him was because he was a perfect husband. In her own words \"Kaka never betrayed me, he always treated me well, ( She hated him for being nice) // Thread // _\n",
      "Why he keep kicking her coonchie omg??\n",
      "HOW DID MY MARRIAGE PROPOSAL TURN INTO A WRESTLING MATCH IM NEVER GETTING MARRIED BRO\n",
      "DEVELOPING: Grammy award and Billboard Icon winning singer Celine Dion released this heartbreaking footage of her going through an intense seizure in her new documentary \"I Am Celine Dion.\" On December 8, 2022, Celine Dion announced she had been diagnosed with stiff-person Show more\n",
      "Joan Rivers was right.\n",
      "Broski acting like he is the one who brought her on this vacation\n",
      "\"Really mom\"\n",
      "He spent 12 years of his life with his wife only to get cheated on...\n",
      "She got that interdimensional TV from Rick and Morty\n",
      "Megyn has a message for Jennifer Aniston after calling out J.D. Vance's \"childless\" remarks. Which we know is BS. Now I see why Brad Pitt dumped her ass. The left is going after Vance HARD!! Which tells me we have the right guy!! I think she's spot on!! Y'all agree?\n",
      "my roman empire is Megan Fox being a mean girl towards the Olsen Twins\n",
      "How does he look better than her?\n",
      "What would you do in this situation?\n",
      "The mom did not age at all\n",
      "she's aging like fine wine\n",
      "His family raised him with very good morals ...\n",
      "I really like Megans backround picture\n",
      "does this count as cheating?\n",
      "Name an actress who gets more beautiful with age... I'll start:\n",
      "Her mother decided to remarry and the man ended her life.\n",
      "English is my third language so maybe this is too advanced for my knowledge of the language... but she sounds like she's just putting words together and not actually saying anything. Do I just need more English lessons?\n",
      "this absolute whore\n",
      "She fell for the oldest trick in the book\n",
      "This is Morgan. She lost the ability to walk 10 months earlier but she surprised her prom date by walking toward him as he arrived to pick her..\n",
      "\n",
      "    Task:\n",
      "        - Analyze the content above.\n",
      "        - Identify the main themes and topics.\n",
      "        - Generate a single, concise sentence that summarizes the user's interests.\n",
      "        - Include as many relevant keywords and concepts from the content as possible.\n",
      "        - The sentence should be suitable as a search query for finding similar content. \n",
      "\n",
      "    Return a JSON object with the following structure:\n",
      "    {\n",
      "        \"query\": \"sentence for querying the embedding search database\",\n",
      "        \"highlights\": \"Quick list of highlights used to generate the query\",\n",
      "        \"quality\": \"float between 0 and 1 estimating the quality of the generated query for finding content of interest\"\n",
      "    }\n",
      "\n",
      "    Rules:\n",
      "    - Do not add backticks to the JSON eg \\`\\`\\`json\\`\\`\\` is WRONG\n",
      "    - DO NOT RETURN ANYTHING BUT JSON. NO COMMENTS BELOW THE JSON.\n",
      "    \n"
     ]
    }
   ],
   "source": [
    "print(prompt)"
   ]
  },
  {
   "cell_type": "code",
   "execution_count": 10,
   "metadata": {},
   "outputs": [],
   "source": [
    "response = generator(prompt)"
   ]
  },
  {
   "cell_type": "code",
   "execution_count": 13,
   "metadata": {},
   "outputs": [
    {
     "data": {
      "text/plain": [
       "0.82106268"
      ]
     },
     "execution_count": 13,
     "metadata": {},
     "output_type": "execute_result"
    }
   ],
   "source": [
    "response['quality']"
   ]
  },
  {
   "cell_type": "code",
   "execution_count": 13,
   "metadata": {},
   "outputs": [
    {
     "data": {
      "text/plain": [
       "Topic\n",
       "-1     1205\n",
       " 0      429\n",
       " 1      103\n",
       " 2       85\n",
       " 3       59\n",
       " 4       56\n",
       " 5       56\n",
       " 6       52\n",
       " 7       50\n",
       " 8       45\n",
       " 9       39\n",
       " 10      34\n",
       " 11      34\n",
       " 12      34\n",
       " 13      31\n",
       " 14      29\n",
       " 15      27\n",
       " 16      26\n",
       " 17      25\n",
       " 18      24\n",
       " 19      24\n",
       " 20      23\n",
       " 21      23\n",
       " 22      21\n",
       " 23      21\n",
       " 24      20\n",
       " 25      19\n",
       " 26      17\n",
       " 27      17\n",
       " 28      17\n",
       " 29      16\n",
       " 30      16\n",
       " 31      16\n",
       " 32      15\n",
       " 33      14\n",
       " 34      14\n",
       " 35      14\n",
       " 36      14\n",
       " 37      13\n",
       " 38      13\n",
       " 39      13\n",
       " 40      13\n",
       " 41      12\n",
       " 42      12\n",
       " 43      12\n",
       " 44      11\n",
       " 45      10\n",
       " 46      10\n",
       " 47      10\n",
       "Name: Document, dtype: int64"
      ]
     },
     "execution_count": 13,
     "metadata": {},
     "output_type": "execute_result"
    }
   ],
   "source": [
    "tweets_with_topics.groupby(['Topic']).Document.count()"
   ]
  },
  {
   "cell_type": "code",
   "execution_count": null,
   "metadata": {},
   "outputs": [],
   "source": []
  }
 ],
 "metadata": {
  "kernelspec": {
   "display_name": "hindsight_server",
   "language": "python",
   "name": "python3"
  },
  "language_info": {
   "codemirror_mode": {
    "name": "ipython",
    "version": 3
   },
   "file_extension": ".py",
   "mimetype": "text/x-python",
   "name": "python",
   "nbconvert_exporter": "python",
   "pygments_lexer": "ipython3",
   "version": "3.10.14"
  }
 },
 "nbformat": 4,
 "nbformat_minor": 2
}
