{
 "cells": [
  {
   "cell_type": "code",
   "execution_count": 1,
   "metadata": {},
   "outputs": [
    {
     "name": "stderr",
     "output_type": "stream",
     "text": [
      "/Users/connorparish/miniconda3/envs/hindsight_server/lib/python3.10/site-packages/tqdm/auto.py:21: TqdmWarning: IProgress not found. Please update jupyter and ipywidgets. See https://ipywidgets.readthedocs.io/en/stable/user_install.html\n",
      "  from .autonotebook import tqdm as notebook_tqdm\n"
     ]
    }
   ],
   "source": [
    "import cv2\n",
    "\n",
    "import mlx.core as mx\n",
    "from mlx_vlm import load, generate"
   ]
  },
  {
   "cell_type": "code",
   "execution_count": 2,
   "metadata": {},
   "outputs": [
    {
     "name": "stderr",
     "output_type": "stream",
     "text": [
      "Fetching 14 files: 100%|██████████| 14/14 [00:00<00:00, 129625.29it/s]\n"
     ]
    }
   ],
   "source": [
    "# model_path = \"mlx-community/Qwen2-VL-7B-Instruct-bf16\"\n",
    "# model_path = \"mlx-community/Qwen2-VL-2B-Instruct-4bit\"\n",
    "# model_path = \"mlx-community/llava-llama-3-8b-v1_1-8bit\"\n",
    "# model_path = \"mlx-community/pixtral-12b-4bit\"\n",
    "\n",
    "model, processor = load(model_path)"
   ]
  },
  {
   "cell_type": "code",
   "execution_count": 16,
   "metadata": {},
   "outputs": [],
   "source": [
    "text_prompt = \"\"\"You are an assistant tasked with extracting \"\"\"\n",
    "\n",
    "messages = [{\n",
    "            \"role\": \"user\",\n",
    "            \"content\": [\n",
    "                {\"type\": \"text\", \"text\": \"Name all food items within the image\"},\n",
    "                {\"type\": \"image\"}\n",
    "            ],\n",
    "        }]\n",
    "prompt = processor.tokenizer.apply_chat_template(\n",
    "    messages,\n",
    "    tokenize=False,\n",
    "    add_generation_prompt=True,\n",
    ")"
   ]
  },
  {
   "cell_type": "code",
   "execution_count": 17,
   "metadata": {},
   "outputs": [],
   "source": [
    "# im_path = \"/Users/connorparish/code/hindsight_parsing/data/extracted_entities/tweets/ads/twitter_ad_41754.0_140586.jpg\"\n",
    " #im_path = \"/Users/connorparish/.hindsight_server/data/raw_screenshots/2024/08/30/com-espn-fantasy-lm-football/com-espn-fantasy-lm-football_1724979751204.jpg\"\n",
    "im_path = \"/Users/connorparish/code/food_not_food/data/plate-images/IMG_9145.jpg\"\n",
    "im = cv2.imread(im_path)"
   ]
  },
  {
   "cell_type": "code",
   "execution_count": 18,
   "metadata": {},
   "outputs": [],
   "source": [
    "output = generate(model, processor, im, prompt, verbose=False, max_tokens=100)"
   ]
  },
  {
   "cell_type": "code",
   "execution_count": 19,
   "metadata": {},
   "outputs": [
    {
     "name": "stdout",
     "output_type": "stream",
     "text": [
      "The image shows a table with the following items:\n",
      "\n",
      "1. A white bowl with a purple object inside it.\n",
      "2. Several white envelopes or papers.\n",
      "3. A smartphone.\n",
      "4. A pen or pencil.\n",
      "5. A piece of paper with some text or writing on it.\n"
     ]
    }
   ],
   "source": [
    "print(output)"
   ]
  },
  {
   "cell_type": "code",
   "execution_count": null,
   "metadata": {},
   "outputs": [],
   "source": []
  }
 ],
 "metadata": {
  "kernelspec": {
   "display_name": "hindsight_server",
   "language": "python",
   "name": "python3"
  },
  "language_info": {
   "codemirror_mode": {
    "name": "ipython",
    "version": 3
   },
   "file_extension": ".py",
   "mimetype": "text/x-python",
   "name": "python",
   "nbconvert_exporter": "python",
   "pygments_lexer": "ipython3",
   "version": "3.10.14"
  }
 },
 "nbformat": 4,
 "nbformat_minor": 2
}
