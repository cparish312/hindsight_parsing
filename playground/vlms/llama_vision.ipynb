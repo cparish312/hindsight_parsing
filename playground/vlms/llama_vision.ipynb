{
 "cells": [
  {
   "cell_type": "code",
   "execution_count": 1,
   "metadata": {},
   "outputs": [
    {
     "name": "stderr",
     "output_type": "stream",
     "text": [
      "/Users/connorparish/miniconda3/envs/hindsight_server/lib/python3.10/site-packages/tqdm/auto.py:21: TqdmWarning: IProgress not found. Please update jupyter and ipywidgets. See https://ipywidgets.readthedocs.io/en/stable/user_install.html\n",
      "  from .autonotebook import tqdm as notebook_tqdm\n"
     ]
    }
   ],
   "source": [
    "import requests\n",
    "import torch\n",
    "from PIL import Image\n",
    "from transformers import MllamaForConditionalGeneration, AutoProcessor"
   ]
  },
  {
   "cell_type": "code",
   "execution_count": 2,
   "metadata": {},
   "outputs": [],
   "source": [
    "# model_id = \"meta-llama/Llama-3.2-11B-Vision\"\n",
    "model_id = \"neuralmagic/Llama-3.2-11B-Vision-Instruct-FP8-dynamic\""
   ]
  },
  {
   "cell_type": "code",
   "execution_count": 3,
   "metadata": {},
   "outputs": [
    {
     "name": "stderr",
     "output_type": "stream",
     "text": [
      "Loading checkpoint shards: 100%|██████████| 3/3 [00:26<00:00,  8.71s/it]\n",
      "Some weights of the model checkpoint at neuralmagic/Llama-3.2-11B-Vision-Instruct-FP8-dynamic were not used when initializing MllamaForConditionalGeneration: ['language_model.model.layers.0.mlp.down_proj.weight_scale', 'language_model.model.layers.0.mlp.gate_proj.weight_scale', 'language_model.model.layers.0.mlp.up_proj.weight_scale', 'language_model.model.layers.0.self_attn.k_proj.weight_scale', 'language_model.model.layers.0.self_attn.o_proj.weight_scale', 'language_model.model.layers.0.self_attn.q_proj.weight_scale', 'language_model.model.layers.0.self_attn.v_proj.weight_scale', 'language_model.model.layers.1.mlp.down_proj.weight_scale', 'language_model.model.layers.1.mlp.gate_proj.weight_scale', 'language_model.model.layers.1.mlp.up_proj.weight_scale', 'language_model.model.layers.1.self_attn.k_proj.weight_scale', 'language_model.model.layers.1.self_attn.o_proj.weight_scale', 'language_model.model.layers.1.self_attn.q_proj.weight_scale', 'language_model.model.layers.1.self_attn.v_proj.weight_scale', 'language_model.model.layers.10.mlp.down_proj.weight_scale', 'language_model.model.layers.10.mlp.gate_proj.weight_scale', 'language_model.model.layers.10.mlp.up_proj.weight_scale', 'language_model.model.layers.10.self_attn.k_proj.weight_scale', 'language_model.model.layers.10.self_attn.o_proj.weight_scale', 'language_model.model.layers.10.self_attn.q_proj.weight_scale', 'language_model.model.layers.10.self_attn.v_proj.weight_scale', 'language_model.model.layers.11.mlp.down_proj.weight_scale', 'language_model.model.layers.11.mlp.gate_proj.weight_scale', 'language_model.model.layers.11.mlp.up_proj.weight_scale', 'language_model.model.layers.11.self_attn.k_proj.weight_scale', 'language_model.model.layers.11.self_attn.o_proj.weight_scale', 'language_model.model.layers.11.self_attn.q_proj.weight_scale', 'language_model.model.layers.11.self_attn.v_proj.weight_scale', 'language_model.model.layers.12.mlp.down_proj.weight_scale', 'language_model.model.layers.12.mlp.gate_proj.weight_scale', 'language_model.model.layers.12.mlp.up_proj.weight_scale', 'language_model.model.layers.12.self_attn.k_proj.weight_scale', 'language_model.model.layers.12.self_attn.o_proj.weight_scale', 'language_model.model.layers.12.self_attn.q_proj.weight_scale', 'language_model.model.layers.12.self_attn.v_proj.weight_scale', 'language_model.model.layers.13.cross_attn.k_proj.weight_scale', 'language_model.model.layers.13.cross_attn.o_proj.weight_scale', 'language_model.model.layers.13.cross_attn.q_proj.weight_scale', 'language_model.model.layers.13.cross_attn.v_proj.weight_scale', 'language_model.model.layers.13.mlp.down_proj.weight_scale', 'language_model.model.layers.13.mlp.gate_proj.weight_scale', 'language_model.model.layers.13.mlp.up_proj.weight_scale', 'language_model.model.layers.14.mlp.down_proj.weight_scale', 'language_model.model.layers.14.mlp.gate_proj.weight_scale', 'language_model.model.layers.14.mlp.up_proj.weight_scale', 'language_model.model.layers.14.self_attn.k_proj.weight_scale', 'language_model.model.layers.14.self_attn.o_proj.weight_scale', 'language_model.model.layers.14.self_attn.q_proj.weight_scale', 'language_model.model.layers.14.self_attn.v_proj.weight_scale', 'language_model.model.layers.15.mlp.down_proj.weight_scale', 'language_model.model.layers.15.mlp.gate_proj.weight_scale', 'language_model.model.layers.15.mlp.up_proj.weight_scale', 'language_model.model.layers.15.self_attn.k_proj.weight_scale', 'language_model.model.layers.15.self_attn.o_proj.weight_scale', 'language_model.model.layers.15.self_attn.q_proj.weight_scale', 'language_model.model.layers.15.self_attn.v_proj.weight_scale', 'language_model.model.layers.16.mlp.down_proj.weight_scale', 'language_model.model.layers.16.mlp.gate_proj.weight_scale', 'language_model.model.layers.16.mlp.up_proj.weight_scale', 'language_model.model.layers.16.self_attn.k_proj.weight_scale', 'language_model.model.layers.16.self_attn.o_proj.weight_scale', 'language_model.model.layers.16.self_attn.q_proj.weight_scale', 'language_model.model.layers.16.self_attn.v_proj.weight_scale', 'language_model.model.layers.17.mlp.down_proj.weight_scale', 'language_model.model.layers.17.mlp.gate_proj.weight_scale', 'language_model.model.layers.17.mlp.up_proj.weight_scale', 'language_model.model.layers.17.self_attn.k_proj.weight_scale', 'language_model.model.layers.17.self_attn.o_proj.weight_scale', 'language_model.model.layers.17.self_attn.q_proj.weight_scale', 'language_model.model.layers.17.self_attn.v_proj.weight_scale', 'language_model.model.layers.18.cross_attn.k_proj.weight_scale', 'language_model.model.layers.18.cross_attn.o_proj.weight_scale', 'language_model.model.layers.18.cross_attn.q_proj.weight_scale', 'language_model.model.layers.18.cross_attn.v_proj.weight_scale', 'language_model.model.layers.18.mlp.down_proj.weight_scale', 'language_model.model.layers.18.mlp.gate_proj.weight_scale', 'language_model.model.layers.18.mlp.up_proj.weight_scale', 'language_model.model.layers.19.mlp.down_proj.weight_scale', 'language_model.model.layers.19.mlp.gate_proj.weight_scale', 'language_model.model.layers.19.mlp.up_proj.weight_scale', 'language_model.model.layers.19.self_attn.k_proj.weight_scale', 'language_model.model.layers.19.self_attn.o_proj.weight_scale', 'language_model.model.layers.19.self_attn.q_proj.weight_scale', 'language_model.model.layers.19.self_attn.v_proj.weight_scale', 'language_model.model.layers.2.mlp.down_proj.weight_scale', 'language_model.model.layers.2.mlp.gate_proj.weight_scale', 'language_model.model.layers.2.mlp.up_proj.weight_scale', 'language_model.model.layers.2.self_attn.k_proj.weight_scale', 'language_model.model.layers.2.self_attn.o_proj.weight_scale', 'language_model.model.layers.2.self_attn.q_proj.weight_scale', 'language_model.model.layers.2.self_attn.v_proj.weight_scale', 'language_model.model.layers.20.mlp.down_proj.weight_scale', 'language_model.model.layers.20.mlp.gate_proj.weight_scale', 'language_model.model.layers.20.mlp.up_proj.weight_scale', 'language_model.model.layers.20.self_attn.k_proj.weight_scale', 'language_model.model.layers.20.self_attn.o_proj.weight_scale', 'language_model.model.layers.20.self_attn.q_proj.weight_scale', 'language_model.model.layers.20.self_attn.v_proj.weight_scale', 'language_model.model.layers.21.mlp.down_proj.weight_scale', 'language_model.model.layers.21.mlp.gate_proj.weight_scale', 'language_model.model.layers.21.mlp.up_proj.weight_scale', 'language_model.model.layers.21.self_attn.k_proj.weight_scale', 'language_model.model.layers.21.self_attn.o_proj.weight_scale', 'language_model.model.layers.21.self_attn.q_proj.weight_scale', 'language_model.model.layers.21.self_attn.v_proj.weight_scale', 'language_model.model.layers.22.mlp.down_proj.weight_scale', 'language_model.model.layers.22.mlp.gate_proj.weight_scale', 'language_model.model.layers.22.mlp.up_proj.weight_scale', 'language_model.model.layers.22.self_attn.k_proj.weight_scale', 'language_model.model.layers.22.self_attn.o_proj.weight_scale', 'language_model.model.layers.22.self_attn.q_proj.weight_scale', 'language_model.model.layers.22.self_attn.v_proj.weight_scale', 'language_model.model.layers.23.cross_attn.k_proj.weight_scale', 'language_model.model.layers.23.cross_attn.o_proj.weight_scale', 'language_model.model.layers.23.cross_attn.q_proj.weight_scale', 'language_model.model.layers.23.cross_attn.v_proj.weight_scale', 'language_model.model.layers.23.mlp.down_proj.weight_scale', 'language_model.model.layers.23.mlp.gate_proj.weight_scale', 'language_model.model.layers.23.mlp.up_proj.weight_scale', 'language_model.model.layers.24.mlp.down_proj.weight_scale', 'language_model.model.layers.24.mlp.gate_proj.weight_scale', 'language_model.model.layers.24.mlp.up_proj.weight_scale', 'language_model.model.layers.24.self_attn.k_proj.weight_scale', 'language_model.model.layers.24.self_attn.o_proj.weight_scale', 'language_model.model.layers.24.self_attn.q_proj.weight_scale', 'language_model.model.layers.24.self_attn.v_proj.weight_scale', 'language_model.model.layers.25.mlp.down_proj.weight_scale', 'language_model.model.layers.25.mlp.gate_proj.weight_scale', 'language_model.model.layers.25.mlp.up_proj.weight_scale', 'language_model.model.layers.25.self_attn.k_proj.weight_scale', 'language_model.model.layers.25.self_attn.o_proj.weight_scale', 'language_model.model.layers.25.self_attn.q_proj.weight_scale', 'language_model.model.layers.25.self_attn.v_proj.weight_scale', 'language_model.model.layers.26.mlp.down_proj.weight_scale', 'language_model.model.layers.26.mlp.gate_proj.weight_scale', 'language_model.model.layers.26.mlp.up_proj.weight_scale', 'language_model.model.layers.26.self_attn.k_proj.weight_scale', 'language_model.model.layers.26.self_attn.o_proj.weight_scale', 'language_model.model.layers.26.self_attn.q_proj.weight_scale', 'language_model.model.layers.26.self_attn.v_proj.weight_scale', 'language_model.model.layers.27.mlp.down_proj.weight_scale', 'language_model.model.layers.27.mlp.gate_proj.weight_scale', 'language_model.model.layers.27.mlp.up_proj.weight_scale', 'language_model.model.layers.27.self_attn.k_proj.weight_scale', 'language_model.model.layers.27.self_attn.o_proj.weight_scale', 'language_model.model.layers.27.self_attn.q_proj.weight_scale', 'language_model.model.layers.27.self_attn.v_proj.weight_scale', 'language_model.model.layers.28.cross_attn.k_proj.weight_scale', 'language_model.model.layers.28.cross_attn.o_proj.weight_scale', 'language_model.model.layers.28.cross_attn.q_proj.weight_scale', 'language_model.model.layers.28.cross_attn.v_proj.weight_scale', 'language_model.model.layers.28.mlp.down_proj.weight_scale', 'language_model.model.layers.28.mlp.gate_proj.weight_scale', 'language_model.model.layers.28.mlp.up_proj.weight_scale', 'language_model.model.layers.29.mlp.down_proj.weight_scale', 'language_model.model.layers.29.mlp.gate_proj.weight_scale', 'language_model.model.layers.29.mlp.up_proj.weight_scale', 'language_model.model.layers.29.self_attn.k_proj.weight_scale', 'language_model.model.layers.29.self_attn.o_proj.weight_scale', 'language_model.model.layers.29.self_attn.q_proj.weight_scale', 'language_model.model.layers.29.self_attn.v_proj.weight_scale', 'language_model.model.layers.3.cross_attn.k_proj.weight_scale', 'language_model.model.layers.3.cross_attn.o_proj.weight_scale', 'language_model.model.layers.3.cross_attn.q_proj.weight_scale', 'language_model.model.layers.3.cross_attn.v_proj.weight_scale', 'language_model.model.layers.3.mlp.down_proj.weight_scale', 'language_model.model.layers.3.mlp.gate_proj.weight_scale', 'language_model.model.layers.3.mlp.up_proj.weight_scale', 'language_model.model.layers.30.mlp.down_proj.weight_scale', 'language_model.model.layers.30.mlp.gate_proj.weight_scale', 'language_model.model.layers.30.mlp.up_proj.weight_scale', 'language_model.model.layers.30.self_attn.k_proj.weight_scale', 'language_model.model.layers.30.self_attn.o_proj.weight_scale', 'language_model.model.layers.30.self_attn.q_proj.weight_scale', 'language_model.model.layers.30.self_attn.v_proj.weight_scale', 'language_model.model.layers.31.mlp.down_proj.weight_scale', 'language_model.model.layers.31.mlp.gate_proj.weight_scale', 'language_model.model.layers.31.mlp.up_proj.weight_scale', 'language_model.model.layers.31.self_attn.k_proj.weight_scale', 'language_model.model.layers.31.self_attn.o_proj.weight_scale', 'language_model.model.layers.31.self_attn.q_proj.weight_scale', 'language_model.model.layers.31.self_attn.v_proj.weight_scale', 'language_model.model.layers.32.mlp.down_proj.weight_scale', 'language_model.model.layers.32.mlp.gate_proj.weight_scale', 'language_model.model.layers.32.mlp.up_proj.weight_scale', 'language_model.model.layers.32.self_attn.k_proj.weight_scale', 'language_model.model.layers.32.self_attn.o_proj.weight_scale', 'language_model.model.layers.32.self_attn.q_proj.weight_scale', 'language_model.model.layers.32.self_attn.v_proj.weight_scale', 'language_model.model.layers.33.cross_attn.k_proj.weight_scale', 'language_model.model.layers.33.cross_attn.o_proj.weight_scale', 'language_model.model.layers.33.cross_attn.q_proj.weight_scale', 'language_model.model.layers.33.cross_attn.v_proj.weight_scale', 'language_model.model.layers.33.mlp.down_proj.weight_scale', 'language_model.model.layers.33.mlp.gate_proj.weight_scale', 'language_model.model.layers.33.mlp.up_proj.weight_scale', 'language_model.model.layers.34.mlp.down_proj.weight_scale', 'language_model.model.layers.34.mlp.gate_proj.weight_scale', 'language_model.model.layers.34.mlp.up_proj.weight_scale', 'language_model.model.layers.34.self_attn.k_proj.weight_scale', 'language_model.model.layers.34.self_attn.o_proj.weight_scale', 'language_model.model.layers.34.self_attn.q_proj.weight_scale', 'language_model.model.layers.34.self_attn.v_proj.weight_scale', 'language_model.model.layers.35.mlp.down_proj.weight_scale', 'language_model.model.layers.35.mlp.gate_proj.weight_scale', 'language_model.model.layers.35.mlp.up_proj.weight_scale', 'language_model.model.layers.35.self_attn.k_proj.weight_scale', 'language_model.model.layers.35.self_attn.o_proj.weight_scale', 'language_model.model.layers.35.self_attn.q_proj.weight_scale', 'language_model.model.layers.35.self_attn.v_proj.weight_scale', 'language_model.model.layers.36.mlp.down_proj.weight_scale', 'language_model.model.layers.36.mlp.gate_proj.weight_scale', 'language_model.model.layers.36.mlp.up_proj.weight_scale', 'language_model.model.layers.36.self_attn.k_proj.weight_scale', 'language_model.model.layers.36.self_attn.o_proj.weight_scale', 'language_model.model.layers.36.self_attn.q_proj.weight_scale', 'language_model.model.layers.36.self_attn.v_proj.weight_scale', 'language_model.model.layers.37.mlp.down_proj.weight_scale', 'language_model.model.layers.37.mlp.gate_proj.weight_scale', 'language_model.model.layers.37.mlp.up_proj.weight_scale', 'language_model.model.layers.37.self_attn.k_proj.weight_scale', 'language_model.model.layers.37.self_attn.o_proj.weight_scale', 'language_model.model.layers.37.self_attn.q_proj.weight_scale', 'language_model.model.layers.37.self_attn.v_proj.weight_scale', 'language_model.model.layers.38.cross_attn.k_proj.weight_scale', 'language_model.model.layers.38.cross_attn.o_proj.weight_scale', 'language_model.model.layers.38.cross_attn.q_proj.weight_scale', 'language_model.model.layers.38.cross_attn.v_proj.weight_scale', 'language_model.model.layers.38.mlp.down_proj.weight_scale', 'language_model.model.layers.38.mlp.gate_proj.weight_scale', 'language_model.model.layers.38.mlp.up_proj.weight_scale', 'language_model.model.layers.39.mlp.down_proj.weight_scale', 'language_model.model.layers.39.mlp.gate_proj.weight_scale', 'language_model.model.layers.39.mlp.up_proj.weight_scale', 'language_model.model.layers.39.self_attn.k_proj.weight_scale', 'language_model.model.layers.39.self_attn.o_proj.weight_scale', 'language_model.model.layers.39.self_attn.q_proj.weight_scale', 'language_model.model.layers.39.self_attn.v_proj.weight_scale', 'language_model.model.layers.4.mlp.down_proj.weight_scale', 'language_model.model.layers.4.mlp.gate_proj.weight_scale', 'language_model.model.layers.4.mlp.up_proj.weight_scale', 'language_model.model.layers.4.self_attn.k_proj.weight_scale', 'language_model.model.layers.4.self_attn.o_proj.weight_scale', 'language_model.model.layers.4.self_attn.q_proj.weight_scale', 'language_model.model.layers.4.self_attn.v_proj.weight_scale', 'language_model.model.layers.5.mlp.down_proj.weight_scale', 'language_model.model.layers.5.mlp.gate_proj.weight_scale', 'language_model.model.layers.5.mlp.up_proj.weight_scale', 'language_model.model.layers.5.self_attn.k_proj.weight_scale', 'language_model.model.layers.5.self_attn.o_proj.weight_scale', 'language_model.model.layers.5.self_attn.q_proj.weight_scale', 'language_model.model.layers.5.self_attn.v_proj.weight_scale', 'language_model.model.layers.6.mlp.down_proj.weight_scale', 'language_model.model.layers.6.mlp.gate_proj.weight_scale', 'language_model.model.layers.6.mlp.up_proj.weight_scale', 'language_model.model.layers.6.self_attn.k_proj.weight_scale', 'language_model.model.layers.6.self_attn.o_proj.weight_scale', 'language_model.model.layers.6.self_attn.q_proj.weight_scale', 'language_model.model.layers.6.self_attn.v_proj.weight_scale', 'language_model.model.layers.7.mlp.down_proj.weight_scale', 'language_model.model.layers.7.mlp.gate_proj.weight_scale', 'language_model.model.layers.7.mlp.up_proj.weight_scale', 'language_model.model.layers.7.self_attn.k_proj.weight_scale', 'language_model.model.layers.7.self_attn.o_proj.weight_scale', 'language_model.model.layers.7.self_attn.q_proj.weight_scale', 'language_model.model.layers.7.self_attn.v_proj.weight_scale', 'language_model.model.layers.8.cross_attn.k_proj.weight_scale', 'language_model.model.layers.8.cross_attn.o_proj.weight_scale', 'language_model.model.layers.8.cross_attn.q_proj.weight_scale', 'language_model.model.layers.8.cross_attn.v_proj.weight_scale', 'language_model.model.layers.8.mlp.down_proj.weight_scale', 'language_model.model.layers.8.mlp.gate_proj.weight_scale', 'language_model.model.layers.8.mlp.up_proj.weight_scale', 'language_model.model.layers.9.mlp.down_proj.weight_scale', 'language_model.model.layers.9.mlp.gate_proj.weight_scale', 'language_model.model.layers.9.mlp.up_proj.weight_scale', 'language_model.model.layers.9.self_attn.k_proj.weight_scale', 'language_model.model.layers.9.self_attn.o_proj.weight_scale', 'language_model.model.layers.9.self_attn.q_proj.weight_scale', 'language_model.model.layers.9.self_attn.v_proj.weight_scale']\n",
      "- This IS expected if you are initializing MllamaForConditionalGeneration from the checkpoint of a model trained on another task or with another architecture (e.g. initializing a BertForSequenceClassification model from a BertForPreTraining model).\n",
      "- This IS NOT expected if you are initializing MllamaForConditionalGeneration from the checkpoint of a model that you expect to be exactly identical (initializing a BertForSequenceClassification model from a BertForSequenceClassification model).\n"
     ]
    }
   ],
   "source": [
    "model = MllamaForConditionalGeneration.from_pretrained(\n",
    "    model_id\n",
    ").to(\"cpu\")"
   ]
  },
  {
   "cell_type": "code",
   "execution_count": 4,
   "metadata": {},
   "outputs": [],
   "source": [
    "processor = AutoProcessor.from_pretrained(model_id)\n",
    "\n",
    "url = \"https://huggingface.co/datasets/huggingface/documentation-images/resolve/0052a70beed5bf71b92610a43a52df6d286cd5f3/diffusers/rabbit.jpg\"\n",
    "image = Image.open(requests.get(url, stream=True).raw)\n",
    "\n",
    "messages = [\n",
    "    {\"role\": \"user\", \"content\": [\n",
    "        {\"type\": \"image\"},\n",
    "        {\"type\": \"text\", \"text\": \"If I had to write a haiku for this one, it would be: \"}\n",
    "    ]}\n",
    "]\n",
    "input_text = processor.apply_chat_template(messages, add_generation_prompt=True)\n",
    "inputs = processor(image, input_text, return_tensors=\"pt\").to(model.device)"
   ]
  },
  {
   "cell_type": "code",
   "execution_count": 5,
   "metadata": {},
   "outputs": [],
   "source": [
    "output = model.generate(**inputs, max_new_tokens=30)"
   ]
  },
  {
   "cell_type": "code",
   "execution_count": null,
   "metadata": {},
   "outputs": [],
   "source": [
    "print(processor.decode(output[0]))"
   ]
  }
 ],
 "metadata": {
  "kernelspec": {
   "display_name": "hindsight_server",
   "language": "python",
   "name": "python3"
  },
  "language_info": {
   "codemirror_mode": {
    "name": "ipython",
    "version": 3
   },
   "file_extension": ".py",
   "mimetype": "text/x-python",
   "name": "python",
   "nbconvert_exporter": "python",
   "pygments_lexer": "ipython3",
   "version": "3.10.14"
  }
 },
 "nbformat": 4,
 "nbformat_minor": 2
}
