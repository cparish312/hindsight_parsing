{
 "cells": [
  {
   "cell_type": "markdown",
   "metadata": {},
   "source": [
    "# Notebook for exporting screenshots for annotation"
   ]
  },
  {
   "cell_type": "code",
   "execution_count": 38,
   "metadata": {},
   "outputs": [],
   "source": [
    "import os\n",
    "import random\n",
    "import json\n",
    "import shutil\n",
    "\n",
    "from ultralytics import YOLO\n",
    "from PIL import Image\n",
    "\n",
    "import sys\n",
    "sys.path.insert(0, \"../../hindsight/hindsight_server/\")\n",
    "\n",
    "from db import HindsightDB\n",
    "from utils import make_dir"
   ]
  },
  {
   "cell_type": "code",
   "execution_count": 27,
   "metadata": {},
   "outputs": [],
   "source": [
    "db = HindsightDB()"
   ]
  },
  {
   "cell_type": "markdown",
   "metadata": {},
   "source": [
    "# If selecting frames from Hindsight"
   ]
  },
  {
   "cell_type": "code",
   "execution_count": 13,
   "metadata": {},
   "outputs": [],
   "source": [
    "frames = db.get_frames(impute_applications=False)\n",
    "frames = frames.loc[frames['application'] == \"Twitter\"]"
   ]
  },
  {
   "cell_type": "code",
   "execution_count": 14,
   "metadata": {},
   "outputs": [],
   "source": [
    "sel_frames = frames.sample(n=100)"
   ]
  },
  {
   "cell_type": "code",
   "execution_count": 15,
   "metadata": {},
   "outputs": [],
   "source": [
    "dest_dir = \"../data/annotations/twitter/rand_upload_2/\"\n",
    "make_dir(dest_dir)\n",
    "for f in sel_frames['path']:\n",
    "    dest_f = os.path.join(dest_dir, os.path.basename(f))\n",
    "    shutil.copy(f, dest_dir)"
   ]
  },
  {
   "cell_type": "markdown",
   "metadata": {},
   "source": [
    "# Run prediction model on frames"
   ]
  },
  {
   "cell_type": "code",
   "execution_count": 29,
   "metadata": {},
   "outputs": [],
   "source": [
    "# trained_model = YOLO(\"./runs/detect/train15/weights/best.pt\")\n",
    "trained_model = YOLO(\"/Users/connorparish/code/hindsight_parsing/data/runs/detect/tweet_parse-2024-09-17-14-15-b4e9db47/weights/best.pt\")"
   ]
  },
  {
   "cell_type": "code",
   "execution_count": 34,
   "metadata": {},
   "outputs": [],
   "source": [
    "dest_dir = \"/Users/connorparish/code/hindsight_parsing/data/extracted_entities/tweets/complete_unique\""
   ]
  },
  {
   "cell_type": "code",
   "execution_count": 35,
   "metadata": {},
   "outputs": [],
   "source": [
    "pred_images_dir = dest_dir \n",
    "images = list()\n",
    "for f in os.listdir(pred_images_dir):\n",
    "    im = Image.open(os.path.join(pred_images_dir, f))\n",
    "    images.append(im)"
   ]
  },
  {
   "cell_type": "code",
   "execution_count": 39,
   "metadata": {},
   "outputs": [],
   "source": [
    "images = random.sample(images, 100)"
   ]
  },
  {
   "cell_type": "code",
   "execution_count": 41,
   "metadata": {},
   "outputs": [
    {
     "name": "stdout",
     "output_type": "stream",
     "text": [
      "\n",
      "0: 640x640 1 image_content_source, 1 impresssions, 1 likes, 1 replies, 2 retweetss, 1 time_since_post, 1 tweet_image_content, 1 tweet_text, 1 user_handle, 1 user_image, 1 username, 1 verified_check, 263.1ms\n",
      "1: 640x640 1 impresssions, 1 likes, 1 replies, 1 retweets, 1 time_since_post, 1 tweet_image_content, 1 tweet_text, 1 user_handle, 1 user_image, 1 username, 1 verified_check, 263.1ms\n",
      "2: 640x640 1 impresssions, 1 likes, 2 repliess, 1 retweets, 1 time_since_post, 1 tweet_text, 1 user_handle, 1 user_image, 1 username, 1 verified_check, 263.1ms\n",
      "3: 640x640 1 impresssions, 1 likes, 1 replies, 1 retweets, 1 time_since_post, 1 tweet_image_content, 1 tweet_text, 1 user_handle, 1 user_image, 3 usernames, 263.1ms\n",
      "4: 640x640 1 impresssions, 1 likes, 1 replies, 1 retweets, 1 time_since_post, 1 tweet_image_content, 2 tweet_texts, 1 user_handle, 1 user_image, 1 username, 1 verified_check, 263.1ms\n",
      "5: 640x640 1 impresssions, 1 likes, 1 replies, 1 retweets, 1 time_since_post, 1 tweet_image_content, 1 tweet_text, 1 user_handle, 1 user_image, 1 username, 1 verified_check, 263.1ms\n",
      "6: 640x640 1 impresssions, 1 likes, 1 replies, 1 retweets, 1 time_since_post, 1 tweet_image_content, 1 tweet_text, 1 user_handle, 1 user_image, 1 username, 1 verified_check, 263.1ms\n",
      "7: 640x640 1 likes, 1 replies, 1 retweets, 1 time_since_post, 1 tweet_image_content, 1 tweet_text, 1 user_handle, 1 user_image, 1 username, 1 verified_check, 263.1ms\n",
      "8: 640x640 1 image_content_source, 1 impresssions, 1 likes, 1 replies, 1 retweets, 1 time_since_post, 1 tweet_image_content, 1 tweet_text, 1 user_handle, 1 user_image, 1 username, 1 verified_check, 263.1ms\n",
      "9: 640x640 1 impresssions, 1 likes, 1 replies, 1 retweets, 1 time_since_post, 1 tweet_image_content, 1 tweet_text, 1 user_handle, 1 user_image, 1 username, 1 verified_check, 263.1ms\n",
      "10: 640x640 1 image_content_source, 1 impresssions, 1 likes, 1 replies, 1 retweets, 1 time_since_post, 1 tweet_image_content, 2 tweet_texts, 3 user_handles, 1 user_image, 4 usernames, 1 verified_check, 263.1ms\n",
      "11: 640x640 1 impresssions, 1 likes, 1 replies, 1 retweets, 1 time_since_post, 1 tweet_image_content, 2 tweet_texts, 1 user_handle, 1 user_image, 1 username, 1 verified_check, 263.1ms\n",
      "12: 640x640 1 time_since_post, 1 tweet_image_content, 2 tweet_texts, 1 user_handle, 2 usernames, 2 verified_checks, 263.1ms\n",
      "13: 640x640 1 impresssions, 1 likes, 1 replies, 1 retweets, 1 time_since_post, 1 tweet_image_content, 1 tweet_text, 2 user_handles, 1 user_image, 1 username, 263.1ms\n",
      "14: 640x640 1 impresssions, 1 likes, 1 replies, 1 retweets, 1 time_since_post, 1 tweet_image_content, 3 tweet_texts, 1 user_handle, 1 user_image, 1 username, 1 verified_check, 263.1ms\n",
      "15: 640x640 1 impresssions, 1 likes, 1 replies, 1 retweets, 1 time_since_post, 1 tweet_image_content, 1 tweet_text, 1 user_handle, 1 user_image, 1 username, 1 verified_check, 263.1ms\n",
      "16: 640x640 1 impresssions, 1 likes, 1 replies, 1 retweets, 1 time_since_post, 1 tweet_image_content, 1 tweet_text, 1 user_handle, 1 user_image, 1 username, 1 verified_check, 263.1ms\n",
      "17: 640x640 1 image_content_source, 1 impresssions, 1 likes, 1 replies, 1 retweets, 1 time_since_post, 1 tweet_image_content, 1 tweet_text, 1 user_handle, 1 user_image, 1 username, 1 verified_check, 263.1ms\n",
      "18: 640x640 1 image_content_source, 1 impresssions, 1 likes, 1 replies, 1 retweets, 1 time_since_post, 1 tweet_image_content, 2 tweet_texts, 2 user_handles, 1 user_image, 1 username, 263.1ms\n",
      "19: 640x640 1 image_content_source, 1 impresssions, 1 likes, 1 replies, 1 retweets, 1 time_since_post, 1 tweet_image_content, 1 tweet_text, 1 user_handle, 1 user_image, 2 usernames, 1 verified_check, 263.1ms\n",
      "20: 640x640 1 impresssions, 1 likes, 1 replies, 1 retweets, 1 time_since_post, 1 tweet_image_content, 1 tweet_text, 2 user_handles, 1 user_image, 1 username, 1 verified_check, 263.1ms\n",
      "21: 640x640 1 image_content_source, 1 impresssions, 1 likes, 1 replies, 1 retweets, 1 time_since_post, 1 tweet_image_content, 1 tweet_text, 1 user_handle, 1 user_image, 1 username, 1 verified_check, 263.1ms\n",
      "22: 640x640 1 impresssions, 1 likes, 1 replies, 1 retweets, 1 time_since_post, 1 tweet_image_content, 1 tweet_text, 1 user_handle, 1 user_image, 1 username, 1 verified_check, 263.1ms\n",
      "23: 640x640 1 impresssions, 1 likes, 1 replies, 1 retweets, 1 time_since_post, 1 tweet_image_content, 1 tweet_text, 1 user_handle, 1 user_image, 1 username, 1 verified_check, 263.1ms\n",
      "24: 640x640 2 image_content_sources, 1 impresssions, 1 likes, 1 replies, 1 retweets, 1 time_since_post, 1 tweet_image_content, 1 tweet_text, 1 user_handle, 1 user_image, 1 username, 1 verified_check, 263.1ms\n",
      "25: 640x640 1 impresssions, 1 likes, 1 replies, 1 retweets, 1 time_since_post, 1 tweet_image_content, 1 tweet_text, 1 user_image, 1 username, 263.1ms\n",
      "26: 640x640 1 impresssions, 1 likes, 1 replies, 1 retweets, 1 time_since_post, 1 tweet_image_content, 1 tweet_text, 1 user_image, 1 username, 1 verified_check, 263.1ms\n",
      "27: 640x640 1 impresssions, 1 likes, 1 replies, 1 retweets, 1 time_since_post, 1 tweet_image_content, 2 tweet_texts, 1 user_handle, 1 user_image, 1 username, 263.1ms\n",
      "28: 640x640 1 impresssions, 1 likes, 1 replies, 1 retweets, 1 time_since_post, 1 tweet_image_content, 1 tweet_text, 1 user_handle, 1 user_image, 2 usernames, 2 verified_checks, 263.1ms\n",
      "29: 640x640 1 impresssions, 1 likes, 1 replies, 1 retweets, 1 time_since_post, 1 tweet_image_content, 1 tweet_text, 1 user_handle, 1 user_image, 1 username, 1 verified_check, 263.1ms\n",
      "30: 640x640 1 impresssions, 1 likes, 1 quoted_tweet, 1 replies, 1 retweets, 2 time_since_posts, 1 tweet_image_content, 2 tweet_texts, 2 user_handles, 2 user_images, 2 usernames, 1 verified_check, 263.1ms\n",
      "31: 640x640 1 impresssions, 1 likes, 1 replies, 1 retweets, 1 time_since_post, 1 tweet_image_content, 1 tweet_text, 2 user_handles, 1 user_image, 1 username, 1 verified_check, 263.1ms\n",
      "32: 640x640 1 impresssions, 1 likes, 1 replies, 1 retweets, 1 time_since_post, 1 tweet_text, 1 user_handle, 1 user_image, 1 username, 1 verified_check, 263.1ms\n",
      "33: 640x640 1 impresssions, 1 likes, 1 replies, 1 retweets, 1 time_since_post, 1 tweet_image_content, 1 tweet_text, 1 user_handle, 1 user_image, 1 username, 1 verified_check, 263.1ms\n",
      "34: 640x640 1 image_content_source, 1 impresssions, 1 likes, 1 replies, 1 retweets, 1 time_since_post, 1 tweet_image_content, 1 tweet_text, 1 user_handle, 1 user_image, 2 usernames, 1 verified_check, 263.1ms\n",
      "35: 640x640 1 image_content_source, 1 impresssions, 1 likes, 1 replies, 1 retweets, 1 time_since_post, 1 tweet_image_content, 1 tweet_text, 1 user_handle, 1 user_image, 1 username, 1 verified_check, 263.1ms\n",
      "36: 640x640 2 impresssionss, 1 likes, 1 replies, 1 retweets, 1 time_since_post, 2 tweet_image_contents, 1 tweet_text, 1 user_handle, 1 user_image, 1 verified_check, 263.1ms\n",
      "37: 640x640 1 impresssions, 1 likes, 1 replies, 1 retweets, 1 time_since_post, 1 tweet_image_content, 1 tweet_text, 1 user_handle, 1 user_image, 1 username, 1 verified_check, 263.1ms\n",
      "38: 640x640 1 impresssions, 1 likes, 1 replies, 1 retweets, 1 time_since_post, 1 tweet_text, 1 user_handle, 1 user_image, 1 username, 1 verified_check, 263.1ms\n",
      "39: 640x640 1 impresssions, 1 likes, 1 replies, 1 retweets, 1 time_since_post, 1 tweet_image_content, 1 tweet_text, 1 user_handle, 1 user_image, 1 username, 1 verified_check, 263.1ms\n",
      "40: 640x640 1 impresssions, 1 likes, 1 replies, 1 retweets, 1 time_since_post, 1 tweet_image_content, 1 tweet_text, 1 user_handle, 1 user_image, 1 username, 1 verified_check, 263.1ms\n",
      "41: 640x640 1 impresssions, 1 likes, 1 replies, 1 retweets, 1 time_since_post, 1 tweet_image_content, 1 tweet_text, 1 user_handle, 1 user_image, 1 username, 1 verified_check, 263.1ms\n",
      "42: 640x640 1 impresssions, 2 likess, 1 quoted_tweet, 1 replies, 1 retweets, 1 time_since_post, 2 tweet_texts, 1 user_handle, 2 usernames, 1 verified_check, 263.1ms\n",
      "43: 640x640 1 image_content_source, 1 impresssions, 1 likes, 1 replies, 1 retweets, 2 time_since_posts, 1 tweet_image_content, 2 tweet_texts, 1 user_handle, 1 user_image, 1 username, 1 verified_check, 263.1ms\n",
      "44: 640x640 1 image_content_source, 1 impresssions, 1 likes, 1 quoted_tweet, 1 replies, 1 retweets, 2 time_since_posts, 1 tweet_image_content, 1 tweet_text, 2 user_handles, 2 user_images, 2 usernames, 263.1ms\n",
      "45: 640x640 1 impresssions, 1 likes, 1 replies, 1 retweets, 1 time_since_post, 1 tweet_image_content, 1 tweet_text, 1 user_handle, 1 user_image, 263.1ms\n",
      "46: 640x640 1 impresssions, 1 likes, 1 replies, 1 retweets, 1 time_since_post, 1 tweet_image_content, 1 tweet_text, 1 user_handle, 1 user_image, 1 username, 1 verified_check, 263.1ms\n",
      "47: 640x640 1 image_content_source, 1 impresssions, 1 likes, 1 replies, 1 retweets, 1 time_since_post, 1 tweet_image_content, 1 tweet_text, 1 user_handle, 1 user_image, 1 username, 1 verified_check, 263.1ms\n",
      "48: 640x640 1 image_content_source, 1 impresssions, 1 likes, 1 replies, 1 retweets, 1 time_since_post, 1 tweet_image_content, 1 tweet_text, 1 user_handle, 1 user_image, 1 username, 1 verified_check, 263.1ms\n",
      "49: 640x640 1 image_content_source, 1 impresssions, 1 likes, 1 replies, 1 retweets, 2 time_since_posts, 1 tweet_image_content, 2 tweet_texts, 1 user_image, 1 username, 1 verified_check, 263.1ms\n",
      "50: 640x640 1 image_content_source, 1 impresssions, 1 likes, 1 replies, 1 retweets, 1 time_since_post, 1 tweet_image_content, 1 tweet_text, 1 user_handle, 1 user_image, 1 username, 263.1ms\n",
      "51: 640x640 1 image_content_source, 1 impresssions, 1 likes, 1 replies, 1 retweets, 1 time_since_post, 1 tweet_image_content, 1 tweet_text, 1 user_handle, 1 user_image, 1 username, 1 verified_check, 263.1ms\n",
      "52: 640x640 1 image_content_source, 1 impresssions, 1 likes, 1 replies, 2 retweetss, 1 time_since_post, 2 tweet_image_contents, 1 tweet_text, 2 user_handles, 1 user_image, 1 username, 1 verified_check, 263.1ms\n",
      "53: 640x640 1 impresssions, 1 likes, 1 replies, 1 retweets, 1 time_since_post, 1 tweet_image_content, 1 tweet_text, 1 user_handle, 1 user_image, 1 username, 1 verified_check, 263.1ms\n",
      "54: 640x640 1 impresssions, 1 likes, 1 replies, 1 retweets, 1 time_since_post, 1 tweet_image_content, 1 tweet_text, 1 user_handle, 1 user_image, 1 username, 1 verified_check, 263.1ms\n",
      "55: 640x640 1 image_content_source, 1 impresssions, 1 likes, 1 replies, 1 retweets, 1 time_since_post, 1 tweet_image_content, 1 tweet_text, 1 user_handle, 1 user_image, 1 username, 1 verified_check, 263.1ms\n",
      "56: 640x640 1 impresssions, 1 likes, 1 replies, 1 retweets, 1 time_since_post, 1 tweet_image_content, 1 tweet_text, 1 user_handle, 1 user_image, 1 username, 1 verified_check, 263.1ms\n",
      "57: 640x640 1 image_content_source, 1 impresssions, 1 likes, 1 replies, 1 retweets, 1 time_since_post, 1 tweet_image_content, 1 tweet_text, 1 user_handle, 2 user_images, 1 username, 1 verified_check, 263.1ms\n",
      "58: 640x640 1 image_content_source, 1 impresssions, 1 likes, 1 replies, 1 retweets, 1 time_since_post, 1 tweet_image_content, 1 tweet_text, 1 user_handle, 1 user_image, 1 username, 1 verified_check, 263.1ms\n",
      "59: 640x640 1 impresssions, 1 likes, 1 replies, 1 retweets, 1 time_since_post, 1 tweet_image_content, 1 tweet_text, 1 user_handle, 1 user_image, 1 username, 1 verified_check, 263.1ms\n",
      "60: 640x640 1 impresssions, 1 likes, 1 replies, 1 retweets, 1 time_since_post, 1 tweet_image_content, 1 tweet_text, 1 user_handle, 1 user_image, 1 username, 1 verified_check, 263.1ms\n",
      "61: 640x640 1 image_content_source, 1 impresssions, 1 likes, 1 replies, 1 retweets, 1 time_since_post, 1 tweet_image_content, 1 user_handle, 2 user_images, 1 username, 1 verified_check, 263.1ms\n",
      "62: 640x640 1 impresssions, 1 likes, 1 replies, 1 retweets, 1 time_since_post, 1 tweet_image_content, 1 tweet_text, 2 user_handles, 1 user_image, 3 usernames, 263.1ms\n",
      "63: 640x640 1 impresssions, 1 likes, 1 replies, 1 retweets, 1 time_since_post, 1 tweet_image_content, 1 tweet_text, 1 user_handle, 1 user_image, 1 username, 1 verified_check, 263.1ms\n",
      "64: 640x640 1 impresssions, 1 likes, 1 replies, 1 retweets, 1 time_since_post, 1 tweet_image_content, 1 tweet_text, 1 user_handle, 1 user_image, 1 username, 1 verified_check, 263.1ms\n",
      "65: 640x640 1 image_content_source, 1 impresssions, 1 likes, 1 replies, 1 retweets, 1 time_since_post, 1 tweet_image_content, 1 tweet_text, 1 user_handle, 1 user_image, 1 username, 1 verified_check, 263.1ms\n",
      "66: 640x640 1 impresssions, 1 likes, 1 replies, 1 retweets, 1 time_since_post, 2 tweet_texts, 1 user_handle, 1 user_image, 1 username, 1 verified_check, 263.1ms\n",
      "67: 640x640 1 impresssions, 1 likes, 1 replies, 1 retweets, 1 time_since_post, 1 tweet_image_content, 2 tweet_texts, 1 user_handle, 1 user_image, 1 username, 1 verified_check, 263.1ms\n",
      "68: 640x640 1 impresssions, 1 likes, 1 replies, 1 retweets, 1 time_since_post, 1 tweet_image_content, 1 tweet_text, 1 user_handle, 1 user_image, 1 username, 1 verified_check, 263.1ms\n",
      "69: 640x640 1 image_content_source, 1 impresssions, 1 likes, 1 replies, 1 retweets, 1 time_since_post, 1 tweet_image_content, 1 tweet_text, 2 user_handles, 1 user_image, 1 verified_check, 263.1ms\n",
      "70: 640x640 1 image_content_source, 1 impresssions, 1 likes, 2 repliess, 1 retweets, 2 time_since_posts, 1 tweet_image_content, 1 tweet_text, 1 user_handle, 1 user_image, 2 verified_checks, 263.1ms\n",
      "71: 640x640 1 impresssions, 1 likes, 2 repliess, 1 retweets, 1 time_since_post, 1 tweet_text, 1 user_handle, 1 user_image, 1 username, 1 verified_check, 263.1ms\n",
      "72: 640x640 1 impresssions, 1 likes, 1 replies, 1 retweets, 1 time_since_post, 1 tweet_image_content, 1 tweet_text, 1 user_handle, 1 user_image, 1 username, 1 verified_check, 263.1ms\n",
      "73: 640x640 1 impresssions, 1 likes, 1 replies, 1 retweets, 1 time_since_post, 1 tweet_image_content, 1 tweet_text, 1 user_handle, 1 user_image, 1 username, 1 verified_check, 263.1ms\n",
      "74: 640x640 1 image_content_source, 1 impresssions, 1 likes, 1 replies, 1 retweets, 1 time_since_post, 2 tweet_image_contents, 1 user_handle, 1 user_image, 2 usernames, 1 verified_check, 263.1ms\n",
      "75: 640x640 1 impresssions, 1 likes, 1 replies, 1 retweets, 1 time_since_post, 1 tweet_image_content, 1 tweet_text, 1 user_handle, 1 user_image, 1 username, 1 verified_check, 263.1ms\n",
      "76: 640x640 1 image_content_source, 1 impresssions, 1 likes, 1 replies, 1 retweets, 1 tweet_image_content, 3 tweet_texts, 2 user_handles, 1 user_image, 1 username, 1 verified_check, 263.1ms\n",
      "77: 640x640 1 impresssions, 1 likes, 1 replies, 1 retweets, 1 time_since_post, 1 tweet_image_content, 1 tweet_text, 1 user_image, 1 username, 1 verified_check, 263.1ms\n",
      "78: 640x640 1 impresssions, 1 likes, 1 replies, 1 retweets, 1 time_since_post, 1 tweet_image_content, 1 tweet_text, 1 user_handle, 1 user_image, 1 username, 263.1ms\n",
      "79: 640x640 1 impresssions, 1 likes, 1 replies, 1 retweets, 1 tweet_image_content, 1 tweet_text, 2 user_handles, 1 user_image, 1 username, 263.1ms\n",
      "80: 640x640 1 impresssions, 1 likes, 1 replies, 1 retweets, 1 time_since_post, 1 tweet_text, 1 user_handle, 1 user_image, 1 username, 1 verified_check, 263.1ms\n",
      "81: 640x640 1 impresssions, 1 likes, 1 replies, 1 retweets, 1 time_since_post, 1 tweet_image_content, 1 tweet_text, 1 user_handle, 1 user_image, 1 username, 1 verified_check, 263.1ms\n",
      "82: 640x640 1 impresssions, 1 likes, 1 replies, 1 retweets, 1 time_since_post, 1 tweet_image_content, 1 tweet_text, 1 user_handle, 1 user_image, 1 username, 1 verified_check, 263.1ms\n",
      "83: 640x640 1 impresssions, 1 likes, 1 replies, 1 retweets, 1 time_since_post, 1 tweet_image_content, 1 tweet_text, 1 user_handle, 1 user_image, 1 username, 1 verified_check, 263.1ms\n",
      "84: 640x640 1 impresssions, 1 likes, 1 quoted_tweet, 1 replies, 1 retweets, 2 time_since_posts, 1 tweet_image_content, 2 tweet_texts, 2 user_handles, 2 user_images, 2 usernames, 2 verified_checks, 263.1ms\n",
      "85: 640x640 1 time_since_post, 1 tweet_image_content, 2 tweet_texts, 1 user_handle, 1 user_image, 3 usernames, 1 verified_check, 263.1ms\n",
      "86: 640x640 1 impresssions, 1 likes, 1 replies, 1 retweets, 1 time_since_post, 1 tweet_image_content, 1 tweet_text, 1 user_handle, 1 user_image, 1 username, 1 verified_check, 263.1ms\n",
      "87: 640x640 1 impresssions, 1 likes, 1 replies, 1 retweets, 1 time_since_post, 1 tweet_image_content, 1 tweet_text, 1 user_handle, 1 user_image, 1 username, 1 verified_check, 263.1ms\n",
      "88: 640x640 1 image_content_source, 1 impresssions, 1 likes, 1 replies, 1 retweets, 1 time_since_post, 1 tweet_image_content, 1 tweet_text, 1 user_handle, 1 user_image, 1 username, 1 verified_check, 263.1ms\n",
      "89: 640x640 1 impresssions, 1 likes, 1 replies, 1 retweets, 1 time_since_post, 1 tweet_image_content, 1 tweet_text, 1 user_handle, 1 user_image, 1 username, 1 verified_check, 263.1ms\n",
      "90: 640x640 1 impresssions, 1 likes, 1 replies, 1 retweets, 1 time_since_post, 1 tweet_image_content, 1 tweet_text, 1 user_handle, 1 user_image, 1 username, 263.1ms\n",
      "91: 640x640 1 impresssions, 1 likes, 1 replies, 1 retweets, 1 tweet_image_content, 1 tweet_text, 1 user_handle, 1 user_image, 2 usernames, 1 verified_check, 263.1ms\n",
      "92: 640x640 1 impresssions, 1 likes, 1 replies, 1 retweets, 1 time_since_post, 1 tweet_image_content, 1 tweet_text, 1 user_handle, 1 user_image, 1 username, 1 verified_check, 263.1ms\n",
      "93: 640x640 1 image_content_source, 1 impresssions, 1 likes, 1 replies, 1 retweets, 1 time_since_post, 1 tweet_image_content, 1 tweet_text, 1 user_handle, 1 user_image, 1 verified_check, 263.1ms\n",
      "94: 640x640 1 impresssions, 1 likes, 1 replies, 1 retweets, 1 time_since_post, 1 tweet_image_content, 1 tweet_text, 2 user_handles, 1 user_image, 1 username, 1 verified_check, 263.1ms\n",
      "95: 640x640 1 image_content_source, 1 impresssions, 1 likes, 1 replies, 1 retweets, 1 time_since_post, 1 tweet_image_content, 2 tweet_texts, 1 user_handle, 1 user_image, 1 username, 1 verified_check, 263.1ms\n",
      "96: 640x640 1 impresssions, 1 replies, 1 retweets, 1 tweet_image_content, 1 tweet_text, 1 user_handle, 1 user_image, 1 username, 1 verified_check, 263.1ms\n",
      "97: 640x640 1 image_content_source, 1 impresssions, 1 likes, 1 replies, 1 retweets, 1 time_since_post, 1 tweet_image_content, 1 tweet_text, 1 user_handle, 1 user_image, 1 username, 1 verified_check, 263.1ms\n",
      "98: 640x640 1 impresssions, 1 likes, 1 replies, 2 retweetss, 1 time_since_post, 2 tweet_image_contents, 2 tweet_texts, 1 user_handle, 2 user_images, 2 usernames, 1 verified_check, 263.1ms\n",
      "99: 640x640 1 image_content_source, 1 impresssions, 1 likes, 1 replies, 1 retweets, 1 time_since_post, 1 tweet_image_content, 2 tweet_texts, 1 user_image, 3 usernames, 1 verified_check, 263.1ms\n",
      "Speed: 1.7ms preprocess, 263.1ms inference, 0.2ms postprocess per image at shape (1, 3, 640, 640)\n"
     ]
    }
   ],
   "source": [
    "results = trained_model(images)"
   ]
  },
  {
   "cell_type": "code",
   "execution_count": 49,
   "metadata": {},
   "outputs": [],
   "source": [
    "result = results[1]"
   ]
  },
  {
   "cell_type": "code",
   "execution_count": 50,
   "metadata": {},
   "outputs": [],
   "source": [
    "result.show()"
   ]
  },
  {
   "cell_type": "code",
   "execution_count": 44,
   "metadata": {},
   "outputs": [],
   "source": [
    "all_preds = list()"
   ]
  },
  {
   "cell_type": "code",
   "execution_count": 46,
   "metadata": {},
   "outputs": [],
   "source": [
    "for result in results:\n",
    "    image_preds_d = {}\n",
    "    image_path = f\"/data/local-files/?d={result.path}\"\n",
    "    image_preds_d['data'] = {\"image\" : image_path}\n",
    "    predictions_d = {\"model_version\": \"train13\", \"score\": 0.55}\n",
    "    org_width = result.orig_shape[1]\n",
    "    org_height = result.orig_shape[0]\n",
    "    result_d_template = {\"type\": \"rectanglelabels\",        \n",
    "            \"from_name\": \"label\", \"to_name\": \"image\",\n",
    "            \"original_width\": org_width, \"original_height\": org_height,\n",
    "            \"image_rotation\": 0}\n",
    "    converted_results = list()\n",
    "    for i, box in enumerate(result.boxes):\n",
    "        result_d = result_d_template.copy()\n",
    "        result_d['id'] = f\"result{i}\"\n",
    "        value_d = {\"rotation\" : 0,\n",
    "                \"x\" : ((float(box.xyxyn[0][0])) * 100),\n",
    "                \"y\" : (float(box.xyxyn[0][1])) * 100,\n",
    "                \"width\" : ((float(box.xyxyn[0][2]) - float(box.xyxyn[0][0])) * 100), \n",
    "                \"height\": (float(box.xyxyn[0][3]) - float(box.xyxyn[0][1])) * 100, \n",
    "                \"rectanglelabels\": [result.names[int(box.cls[0])]]}\n",
    "        result_d['value'] = value_d\n",
    "        converted_results.append(result_d)\n",
    "        \n",
    "    predictions_d[\"result\"] = converted_results\n",
    "    image_preds_d['predictions'] = [predictions_d]\n",
    "    all_preds.append(image_preds_d)"
   ]
  },
  {
   "cell_type": "code",
   "execution_count": 47,
   "metadata": {},
   "outputs": [],
   "source": [
    "with open(\"tweet_parse_pred_1.json\", 'w') as outfile:\n",
    "    json.dump(all_preds, outfile)"
   ]
  },
  {
   "cell_type": "code",
   "execution_count": null,
   "metadata": {},
   "outputs": [],
   "source": []
  },
  {
   "cell_type": "code",
   "execution_count": 1,
   "metadata": {},
   "outputs": [],
   "source": [
    "import sys\n",
    "sys.path.insert(0, \"../\")\n",
    "\n",
    "from annotation_db import HindsightAnnotationsDB"
   ]
  },
  {
   "cell_type": "code",
   "execution_count": 2,
   "metadata": {},
   "outputs": [],
   "source": [
    "annotation_db = HindsightAnnotationsDB()"
   ]
  },
  {
   "cell_type": "code",
   "execution_count": 24,
   "metadata": {},
   "outputs": [],
   "source": [
    "annotations = annotation_db.get_annotations()"
   ]
  },
  {
   "cell_type": "code",
   "execution_count": 25,
   "metadata": {},
   "outputs": [
    {
     "data": {
      "text/html": [
       "<div>\n",
       "<style scoped>\n",
       "    .dataframe tbody tr th:only-of-type {\n",
       "        vertical-align: middle;\n",
       "    }\n",
       "\n",
       "    .dataframe tbody tr th {\n",
       "        vertical-align: top;\n",
       "    }\n",
       "\n",
       "    .dataframe thead th {\n",
       "        text-align: right;\n",
       "    }\n",
       "</style>\n",
       "<table border=\"1\" class=\"dataframe\">\n",
       "  <thead>\n",
       "    <tr style=\"text-align: right;\">\n",
       "      <th></th>\n",
       "      <th>id</th>\n",
       "      <th>frame_id</th>\n",
       "      <th>x</th>\n",
       "      <th>y</th>\n",
       "      <th>w</th>\n",
       "      <th>h</th>\n",
       "      <th>rotation</th>\n",
       "      <th>label</th>\n",
       "      <th>conf</th>\n",
       "      <th>model_name</th>\n",
       "      <th>model_version</th>\n",
       "    </tr>\n",
       "  </thead>\n",
       "  <tbody>\n",
       "  </tbody>\n",
       "</table>\n",
       "</div>"
      ],
      "text/plain": [
       "Empty DataFrame\n",
       "Columns: [id, frame_id, x, y, w, h, rotation, label, conf, model_name, model_version]\n",
       "Index: []"
      ]
     },
     "execution_count": 25,
     "metadata": {},
     "output_type": "execute_result"
    }
   ],
   "source": [
    "annotations"
   ]
  },
  {
   "cell_type": "code",
   "execution_count": null,
   "metadata": {},
   "outputs": [],
   "source": []
  }
 ],
 "metadata": {
  "kernelspec": {
   "display_name": "hindsight_exp",
   "language": "python",
   "name": "python3"
  },
  "language_info": {
   "codemirror_mode": {
    "name": "ipython",
    "version": 3
   },
   "file_extension": ".py",
   "mimetype": "text/x-python",
   "name": "python",
   "nbconvert_exporter": "python",
   "pygments_lexer": "ipython3",
   "version": "3.10.14"
  }
 },
 "nbformat": 4,
 "nbformat_minor": 2
}
