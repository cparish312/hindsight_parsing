{
 "cells": [
  {
   "cell_type": "markdown",
   "metadata": {},
   "source": [
    "# Notebook for exporting screenshots for annotation"
   ]
  },
  {
   "cell_type": "code",
   "execution_count": 49,
   "metadata": {},
   "outputs": [],
   "source": [
    "import os\n",
    "import json\n",
    "import shutil\n",
    "\n",
    "from ultralytics import YOLO\n",
    "from PIL import Image\n",
    "\n",
    "import sys\n",
    "sys.path.insert(0, \"../../hindsight/hindsight_server/\")\n",
    "\n",
    "from db import HindsightDB\n",
    "from utils import make_dir"
   ]
  },
  {
   "cell_type": "code",
   "execution_count": 50,
   "metadata": {},
   "outputs": [],
   "source": [
    "db = HindsightDB()"
   ]
  },
  {
   "cell_type": "code",
   "execution_count": 51,
   "metadata": {},
   "outputs": [],
   "source": [
    "frames = db.get_frames()"
   ]
  },
  {
   "cell_type": "code",
   "execution_count": 53,
   "metadata": {},
   "outputs": [],
   "source": [
    "frames = frames.loc[frames['application'] == \"Twitter\"]"
   ]
  },
  {
   "cell_type": "code",
   "execution_count": 54,
   "metadata": {},
   "outputs": [],
   "source": [
    "sel_frames = frames.sample(n=100)"
   ]
  },
  {
   "cell_type": "code",
   "execution_count": 55,
   "metadata": {},
   "outputs": [],
   "source": [
    "dest_dir = \"../data/annotations/twitter/rand_upload_2/\"\n",
    "make_dir(dest_dir)\n",
    "for f in sel_frames['path']:\n",
    "    dest_f = os.path.join(dest_dir, os.path.basename(f))\n",
    "    shutil.copy(f, dest_dir)"
   ]
  },
  {
   "cell_type": "markdown",
   "metadata": {},
   "source": [
    "# Run prediction model on frames"
   ]
  },
  {
   "cell_type": "code",
   "execution_count": 11,
   "metadata": {},
   "outputs": [],
   "source": [
    "trained_model = YOLO(\"./runs/detect/train15/weights/best.pt\")"
   ]
  },
  {
   "cell_type": "code",
   "execution_count": 42,
   "metadata": {},
   "outputs": [],
   "source": [
    "pred_images_dir = dest_dir \n",
    "images = list()\n",
    "for f in os.listdir(pred_images_dir):\n",
    "    im = Image.open(os.path.join(pred_images_dir, f))\n",
    "    images.append(im)"
   ]
  },
  {
   "cell_type": "code",
   "execution_count": 44,
   "metadata": {},
   "outputs": [
    {
     "name": "stdout",
     "output_type": "stream",
     "text": [
      "\n",
      "0: 640x320 1 more_posted, 4 tweets, 153.3ms\n",
      "1: 640x320 5 tweets, 153.3ms\n",
      "2: 640x320 1 more_posted, 3 tweets, 153.3ms\n",
      "3: 640x320 3 tweets, 153.3ms\n",
      "4: 640x320 3 tweets, 153.3ms\n",
      "5: 640x320 6 tweets, 153.3ms\n",
      "6: 640x320 1 more_posted, 2 tweets, 153.3ms\n",
      "7: 640x320 1 new_posts, 7 tweets, 1 twitter_top_menu, 153.3ms\n",
      "8: 640x320 3 tweets, 153.3ms\n",
      "9: 640x320 1 more_posted, 3 tweets, 153.3ms\n",
      "10: 640x320 5 tweets, 153.3ms\n",
      "11: 640x320 2 tweets, 153.3ms\n",
      "12: 640x320 4 tweets, 1 tweet_ad, 153.3ms\n",
      "13: 640x320 3 tweets, 153.3ms\n",
      "14: 640x320 5 tweets, 153.3ms\n",
      "15: 640x320 1 more_posted, 3 tweets, 153.3ms\n",
      "16: 640x320 1 more_posted, 3 tweets, 153.3ms\n",
      "17: 640x320 2 tweets, 153.3ms\n",
      "18: 640x320 1 more_posted, 3 tweets, 153.3ms\n",
      "19: 640x320 5 tweets, 1 twitter_top_menu, 153.3ms\n",
      "20: 640x320 1 plus_button, 2 tweets, 1 twitter_bottom_menu, 153.3ms\n",
      "21: 640x320 3 tweets, 153.3ms\n",
      "22: 640x320 1 more_posted, 3 tweets, 153.3ms\n",
      "23: 640x320 1 more_posted, 1 plus_button, 3 tweets, 1 twitter_bottom_menu, 1 twitter_top_menu, 153.3ms\n",
      "24: 640x320 5 tweets, 153.3ms\n",
      "25: 640x320 3 tweets, 153.3ms\n",
      "26: 640x320 1 more_posted, 1 plus_button, 4 tweets, 1 twitter_bottom_menu, 1 twitter_top_menu, 153.3ms\n",
      "27: 640x320 1 more_posted, 1 plus_button, 3 tweets, 1 tweet_ad, 1 twitter_bottom_menu, 1 twitter_top_menu, 153.3ms\n",
      "28: 640x320 1 more_posted, 3 tweets, 153.3ms\n",
      "29: 640x320 3 tweets, 153.3ms\n",
      "30: 640x320 1 new_posts, 1 plus_button, 5 tweets, 1 twitter_bottom_menu, 153.3ms\n",
      "31: 640x320 6 tweets, 1 twitter_top_menu, 153.3ms\n",
      "32: 640x320 3 tweets, 153.3ms\n",
      "33: 640x320 1 more_posted, 3 tweets, 153.3ms\n",
      "34: 640x320 1 more_posted, 3 tweets, 153.3ms\n",
      "35: 640x320 3 tweets, 153.3ms\n",
      "36: 640x320 3 tweets, 153.3ms\n",
      "37: 640x320 3 tweets, 153.3ms\n",
      "38: 640x320 1 more_posted, 3 tweets, 153.3ms\n",
      "39: 640x320 1 more_posted, 3 tweets, 1 tweet_ad, 153.3ms\n",
      "40: 640x320 1 plus_button, 3 tweets, 2 twitter_bottom_menus, 153.3ms\n",
      "41: 640x320 3 tweets, 1 twitter_bottom_menu, 1 twitter_top_menu, 153.3ms\n",
      "42: 640x320 1 more_posted, 1 plus_button, 3 tweets, 1 twitter_bottom_menu, 153.3ms\n",
      "43: 640x320 1 new_posts, 1 plus_button, 3 tweets, 2 twitter_bottom_menus, 1 twitter_top_menu, 153.3ms\n",
      "44: 640x320 1 plus_button, 5 tweets, 2 twitter_bottom_menus, 153.3ms\n",
      "45: 640x320 4 tweets, 1 twitter_top_menu, 153.3ms\n",
      "46: 640x320 3 tweets, 153.3ms\n",
      "47: 640x320 1 new_posts, 1 plus_button, 4 tweets, 1 twitter_bottom_menu, 153.3ms\n",
      "48: 640x320 3 tweets, 153.3ms\n",
      "49: 640x320 3 tweets, 153.3ms\n",
      "50: 640x320 1 plus_button, 7 tweets, 153.3ms\n",
      "51: 640x320 2 more_posteds, 1 plus_button, 3 tweets, 1 twitter_bottom_menu, 153.3ms\n",
      "52: 640x320 2 tweets, 153.3ms\n",
      "53: 640x320 3 tweets, 153.3ms\n",
      "54: 640x320 1 more_posted, 1 plus_button, 6 tweets, 1 twitter_bottom_menu, 153.3ms\n",
      "55: 640x320 3 tweets, 153.3ms\n",
      "56: 640x320 1 more_posted, 1 plus_button, 5 tweets, 1 twitter_bottom_menu, 153.3ms\n",
      "57: 640x320 1 more_posted, 1 plus_button, 5 tweets, 1 twitter_bottom_menu, 1 twitter_top_menu, 153.3ms\n",
      "58: 640x320 1 more_posted, 3 tweets, 153.3ms\n",
      "59: 640x320 1 more_posted, 4 tweets, 153.3ms\n",
      "60: 640x320 1 more_posted, 3 tweets, 153.3ms\n",
      "61: 640x320 3 tweets, 153.3ms\n",
      "62: 640x320 1 more_posted, 3 tweets, 153.3ms\n",
      "63: 640x320 1 more_posted, 3 tweets, 153.3ms\n",
      "64: 640x320 6 tweets, 153.3ms\n",
      "65: 640x320 1 more_posted, 1 plus_button, 4 tweets, 1 twitter_bottom_menu, 1 twitter_top_menu, 153.3ms\n",
      "66: 640x320 1 more_posted, 5 tweets, 153.3ms\n",
      "67: 640x320 7 tweets, 1 twitter_bottom_menu, 153.3ms\n",
      "68: 640x320 4 tweets, 153.3ms\n",
      "69: 640x320 1 more_posted, 1 plus_button, 4 tweets, 1 twitter_bottom_menu, 1 twitter_top_menu, 153.3ms\n",
      "70: 640x320 1 more_posted, 4 tweets, 153.3ms\n",
      "71: 640x320 1 more_posted, 1 plus_button, 4 tweets, 1 twitter_bottom_menu, 1 twitter_top_menu, 153.3ms\n",
      "72: 640x320 1 more_posted, 1 plus_button, 3 tweets, 1 twitter_bottom_menu, 153.3ms\n",
      "73: 640x320 3 tweets, 153.3ms\n",
      "74: 640x320 1 more_posted, 6 tweets, 153.3ms\n",
      "75: 640x320 7 tweets, 153.3ms\n",
      "76: 640x320 1 more_posted, 1 plus_button, 4 tweets, 1 twitter_bottom_menu, 1 twitter_top_menu, 153.3ms\n",
      "77: 640x320 1 more_posted, 3 tweets, 153.3ms\n",
      "78: 640x320 1 more_posted, 4 tweets, 153.3ms\n",
      "79: 640x320 1 more_posted, 3 tweets, 153.3ms\n",
      "80: 640x320 5 tweets, 153.3ms\n",
      "81: 640x320 4 tweets, 153.3ms\n",
      "82: 640x320 1 more_posted, 1 plus_button, 3 tweets, 1 twitter_bottom_menu, 1 twitter_top_menu, 153.3ms\n",
      "83: 640x320 1 plus_button, 3 tweets, 1 twitter_bottom_menu, 153.3ms\n",
      "84: 640x320 1 more_posted, 2 tweets, 153.3ms\n",
      "85: 640x320 8 tweets, 153.3ms\n",
      "86: 640x320 1 more_posted, 3 tweets, 153.3ms\n",
      "87: 640x320 4 tweets, 1 twitter_top_menu, 153.3ms\n",
      "88: 640x320 1 plus_button, 3 tweets, 1 twitter_bottom_menu, 153.3ms\n",
      "89: 640x320 2 more_posteds, 1 new_posts, 8 tweets, 153.3ms\n",
      "90: 640x320 1 more_posted, 3 tweets, 153.3ms\n",
      "91: 640x320 3 tweets, 153.3ms\n",
      "92: 640x320 2 new_postss, 5 tweets, 153.3ms\n",
      "93: 640x320 8 tweets, 153.3ms\n",
      "94: 640x320 1 plus_button, 1 quoted_tweet, 3 tweets, 1 twitter_bottom_menu, 1 twitter_top_menu, 153.3ms\n",
      "95: 640x320 1 more_posted, 6 tweets, 153.3ms\n",
      "96: 640x320 3 tweets, 153.3ms\n",
      "97: 640x320 1 new_posts, 1 plus_button, 5 tweets, 1 twitter_bottom_menu, 153.3ms\n",
      "98: 640x320 1 more_posted, 5 tweets, 153.3ms\n",
      "99: 640x320 1 more_posted, 3 tweets, 153.3ms\n",
      "Speed: 1.3ms preprocess, 153.3ms inference, 0.3ms postprocess per image at shape (1, 3, 640, 320)\n"
     ]
    }
   ],
   "source": [
    "results = trained_model(images)"
   ]
  },
  {
   "cell_type": "code",
   "execution_count": 45,
   "metadata": {},
   "outputs": [],
   "source": [
    "all_preds = list()"
   ]
  },
  {
   "cell_type": "code",
   "execution_count": 47,
   "metadata": {},
   "outputs": [],
   "source": [
    "for result in results:\n",
    "    image_preds_d = {}\n",
    "    image_path = f\"/data/local-files/?d={result.path}\"\n",
    "    image_preds_d['data'] = {\"image\" : image_path}\n",
    "    predictions_d = {\"model_version\": \"train13\", \"score\": 0.55}\n",
    "    org_width = result.orig_shape[1]\n",
    "    org_height = result.orig_shape[0]\n",
    "    result_d_template = {\"type\": \"rectanglelabels\",        \n",
    "            \"from_name\": \"label\", \"to_name\": \"image\",\n",
    "            \"original_width\": org_width, \"original_height\": org_height,\n",
    "            \"image_rotation\": 0}\n",
    "    converted_results = list()\n",
    "    for i, box in enumerate(result.boxes):\n",
    "        result_d = result_d_template.copy()\n",
    "        result_d['id'] = f\"result{i}\"\n",
    "        value_d = {\"rotation\" : 0,\n",
    "                \"x\" : ((float(box.xyxyn[0][0])) * 100),\n",
    "                \"y\" : (float(box.xyxyn[0][1])) * 100,\n",
    "                \"width\" : ((float(box.xyxyn[0][2]) - float(box.xyxyn[0][0])) * 100), \n",
    "                \"height\": (float(box.xyxyn[0][3]) - float(box.xyxyn[0][1])) * 100, \n",
    "                \"rectanglelabels\": [result.names[int(box.cls[0])]]}\n",
    "        result_d['value'] = value_d\n",
    "        converted_results.append(result_d)\n",
    "        \n",
    "    predictions_d[\"result\"] = converted_results\n",
    "    image_preds_d['predictions'] = [predictions_d]\n",
    "    all_preds.append(image_preds_d)"
   ]
  },
  {
   "cell_type": "code",
   "execution_count": 48,
   "metadata": {},
   "outputs": [],
   "source": [
    "with open(\"first_local_preds.json\", 'w') as outfile:\n",
    "    json.dump(all_preds, outfile)"
   ]
  },
  {
   "cell_type": "code",
   "execution_count": null,
   "metadata": {},
   "outputs": [],
   "source": []
  }
 ],
 "metadata": {
  "kernelspec": {
   "display_name": "hindsight_exp",
   "language": "python",
   "name": "python3"
  },
  "language_info": {
   "codemirror_mode": {
    "name": "ipython",
    "version": 3
   },
   "file_extension": ".py",
   "mimetype": "text/x-python",
   "name": "python",
   "nbconvert_exporter": "python",
   "pygments_lexer": "ipython3",
   "version": "3.10.14"
  }
 },
 "nbformat": 4,
 "nbformat_minor": 2
}
