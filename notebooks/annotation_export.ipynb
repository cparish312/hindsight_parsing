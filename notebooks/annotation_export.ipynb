{
 "cells": [
  {
   "cell_type": "markdown",
   "metadata": {},
   "source": [
    "# Notebook for exporting screenshots for annotation"
   ]
  },
  {
   "cell_type": "code",
   "execution_count": 11,
   "metadata": {},
   "outputs": [],
   "source": [
    "import os\n",
    "import json\n",
    "import shutil\n",
    "\n",
    "from ultralytics import YOLO\n",
    "from PIL import Image\n",
    "\n",
    "import sys\n",
    "sys.path.insert(0, \"../../hindsight/hindsight_server/\")\n",
    "\n",
    "from db import HindsightDB\n",
    "from utils import make_dir"
   ]
  },
  {
   "cell_type": "code",
   "execution_count": 12,
   "metadata": {},
   "outputs": [],
   "source": [
    "db = HindsightDB()"
   ]
  },
  {
   "cell_type": "code",
   "execution_count": 13,
   "metadata": {},
   "outputs": [],
   "source": [
    "frames = db.get_frames(impute_applications=False)\n",
    "frames = frames.loc[frames['application'] == \"Twitter\"]"
   ]
  },
  {
   "cell_type": "code",
   "execution_count": 14,
   "metadata": {},
   "outputs": [],
   "source": [
    "sel_frames = frames.sample(n=100)"
   ]
  },
  {
   "cell_type": "code",
   "execution_count": 15,
   "metadata": {},
   "outputs": [],
   "source": [
    "dest_dir = \"../data/annotations/twitter/rand_upload_2/\"\n",
    "make_dir(dest_dir)\n",
    "for f in sel_frames['path']:\n",
    "    dest_f = os.path.join(dest_dir, os.path.basename(f))\n",
    "    shutil.copy(f, dest_dir)"
   ]
  },
  {
   "cell_type": "markdown",
   "metadata": {},
   "source": [
    "# Run prediction model on frames"
   ]
  },
  {
   "cell_type": "code",
   "execution_count": 16,
   "metadata": {},
   "outputs": [],
   "source": [
    "trained_model = YOLO(\"./runs/detect/train15/weights/best.pt\")"
   ]
  },
  {
   "cell_type": "code",
   "execution_count": 17,
   "metadata": {},
   "outputs": [],
   "source": [
    "pred_images_dir = dest_dir \n",
    "images = list()\n",
    "for f in os.listdir(pred_images_dir):\n",
    "    im = Image.open(os.path.join(pred_images_dir, f))\n",
    "    images.append(im)"
   ]
  },
  {
   "cell_type": "code",
   "execution_count": 18,
   "metadata": {},
   "outputs": [
    {
     "name": "stdout",
     "output_type": "stream",
     "text": [
      "\n",
      "0: 640x320 2 tweets, 138.7ms\n",
      "1: 640x320 3 tweets, 138.7ms\n",
      "2: 640x320 1 more_posted, 3 tweets, 138.7ms\n",
      "3: 640x320 3 tweets, 138.7ms\n",
      "4: 640x320 2 tweets, 138.7ms\n",
      "5: 640x320 2 tweets, 138.7ms\n",
      "6: 640x320 3 tweets, 138.7ms\n",
      "7: 640x320 2 tweets, 138.7ms\n",
      "8: 640x320 1 plus_button, 8 tweets, 138.7ms\n",
      "9: 640x320 1 more_posted, 3 tweets, 138.7ms\n",
      "10: 640x320 4 tweets, 138.7ms\n",
      "11: 640x320 3 tweets, 138.7ms\n",
      "12: 640x320 1 more_posted, 3 tweets, 138.7ms\n",
      "13: 640x320 4 tweets, 138.7ms\n",
      "14: 640x320 3 tweets, 1 twitter_top_menu, 138.7ms\n",
      "15: 640x320 3 tweets, 138.7ms\n",
      "16: 640x320 1 more_posted, 1 plus_button, 3 tweets, 1 twitter_bottom_menu, 1 twitter_top_menu, 138.7ms\n",
      "17: 640x320 1 more_posted, 3 tweets, 138.7ms\n",
      "18: 640x320 3 tweets, 138.7ms\n",
      "19: 640x320 1 plus_button, 3 tweets, 1 twitter_bottom_menu, 1 twitter_top_menu, 138.7ms\n",
      "20: 640x320 3 tweets, 138.7ms\n",
      "21: 640x320 1 more_posted, 1 plus_button, 3 tweets, 1 twitter_bottom_menu, 1 twitter_top_menu, 138.7ms\n",
      "22: 640x320 1 plus_button, 4 tweets, 138.7ms\n",
      "23: 640x320 2 tweets, 2 twitter_top_menus, 138.7ms\n",
      "24: 640x320 1 new_posts, 1 plus_button, 3 tweets, 1 twitter_bottom_menu, 1 twitter_top_menu, 138.7ms\n",
      "25: 640x320 1 more_posted, 4 tweets, 138.7ms\n",
      "26: 640x320 2 tweets, 138.7ms\n",
      "27: 640x320 3 tweets, 138.7ms\n",
      "28: 640x320 1 playing_video, 1 tweet, 138.7ms\n",
      "29: 640x320 3 tweets, 2 twitter_top_menus, 138.7ms\n",
      "30: 640x320 2 tweets, 138.7ms\n",
      "31: 640x320 1 more_posted, 1 plus_button, 3 tweets, 1 twitter_bottom_menu, 1 twitter_top_menu, 138.7ms\n",
      "32: 640x320 1 more_posted, 1 plus_button, 3 tweets, 1 twitter_bottom_menu, 1 twitter_top_menu, 138.7ms\n",
      "33: 640x320 1 new_posts, 1 plus_button, 2 tweets, 1 twitter_bottom_menu, 1 twitter_top_menu, 138.7ms\n",
      "34: 640x320 3 tweets, 138.7ms\n",
      "35: 640x320 2 tweets, 138.7ms\n",
      "36: 640x320 1 more_posted, 1 plus_button, 3 tweets, 1 twitter_bottom_menu, 1 twitter_top_menu, 138.7ms\n",
      "37: 640x320 1 more_posted, 1 plus_button, 2 tweets, 1 twitter_bottom_menu, 1 twitter_top_menu, 138.7ms\n",
      "38: 640x320 2 tweets, 138.7ms\n",
      "39: 640x320 1 plus_button, 1 tweet, 1 tweet_ad, 1 twitter_bottom_menu, 138.7ms\n",
      "40: 640x320 1 more_posted, 1 plus_button, 3 tweets, 1 twitter_bottom_menu, 1 twitter_top_menu, 138.7ms\n",
      "41: 640x320 1 playing_video, 3 tweets, 138.7ms\n",
      "42: 640x320 1 plus_button, 2 tweets, 1 twitter_bottom_menu, 1 twitter_top_menu, 138.7ms\n",
      "43: 640x320 1 more_posted, 3 tweets, 138.7ms\n",
      "44: 640x320 1 more_posted, 3 tweets, 138.7ms\n",
      "45: 640x320 3 tweets, 138.7ms\n",
      "46: 640x320 1 more_posted, 3 tweets, 138.7ms\n",
      "47: 640x320 3 tweets, 138.7ms\n",
      "48: 640x320 1 plus_button, 3 tweets, 1 twitter_bottom_menu, 1 twitter_top_menu, 138.7ms\n",
      "49: 640x320 3 tweets, 138.7ms\n",
      "50: 640x320 3 tweets, 138.7ms\n",
      "51: 640x320 1 more_posted, 3 tweets, 138.7ms\n",
      "52: 640x320 1 partial_tweet, 4 tweets, 138.7ms\n",
      "53: 640x320 4 tweets, 138.7ms\n",
      "54: 640x320 2 tweets, 138.7ms\n",
      "55: 640x320 1 more_posted, 2 tweets, 138.7ms\n",
      "56: 640x320 1 plus_button, 3 tweets, 1 twitter_bottom_menu, 1 twitter_top_menu, 138.7ms\n",
      "57: 640x320 2 tweets, 138.7ms\n",
      "58: 640x320 3 tweets, 138.7ms\n",
      "59: 640x320 1 more_posted, 1 plus_button, 3 tweets, 1 twitter_bottom_menu, 1 twitter_top_menu, 138.7ms\n",
      "60: 640x320 1 more_posted, 1 plus_button, 3 tweets, 1 twitter_bottom_menu, 1 twitter_top_menu, 138.7ms\n",
      "61: 640x320 1 more_posted, 1 plus_button, 3 tweets, 1 twitter_bottom_menu, 1 twitter_top_menu, 138.7ms\n",
      "62: 640x320 2 tweets, 138.7ms\n",
      "63: 640x320 1 more_posted, 3 tweets, 138.7ms\n",
      "64: 640x320 3 tweets, 138.7ms\n",
      "65: 640x320 1 more_posted, 3 tweets, 138.7ms\n",
      "66: 640x320 1 more_posted, 1 plus_button, 3 tweets, 1 twitter_bottom_menu, 1 twitter_top_menu, 138.7ms\n",
      "67: 640x320 3 tweets, 138.7ms\n",
      "68: 640x320 2 playing_videos, 1 tweet, 138.7ms\n",
      "69: 640x320 1 more_posted, 1 plus_button, 2 tweets, 1 twitter_bottom_menu, 1 twitter_top_menu, 138.7ms\n",
      "70: 640x320 1 tweet, 1 tweet_ad, 138.7ms\n",
      "71: 640x320 3 tweets, 138.7ms\n",
      "72: 640x320 3 tweets, 138.7ms\n",
      "73: 640x320 1 more_posted, 3 tweets, 138.7ms\n",
      "74: 640x320 3 tweets, 138.7ms\n",
      "75: 640x320 1 more_posted, 2 tweets, 138.7ms\n",
      "76: 640x320 1 more_posted, 1 plus_button, 2 tweets, 1 twitter_bottom_menu, 1 twitter_top_menu, 138.7ms\n",
      "77: 640x320 2 tweets, 138.7ms\n",
      "78: 640x320 3 tweets, 138.7ms\n",
      "79: 640x320 1 more_posted, 3 tweets, 138.7ms\n",
      "80: 640x320 1 more_posted, 1 plus_button, 3 tweets, 1 twitter_bottom_menu, 1 twitter_top_menu, 138.7ms\n",
      "81: 640x320 2 tweets, 138.7ms\n",
      "82: 640x320 1 more_posted, 4 tweets, 138.7ms\n",
      "83: 640x320 6 tweets, 138.7ms\n",
      "84: 640x320 1 plus_button, 4 tweets, 138.7ms\n",
      "85: 640x320 1 plus_button, 5 tweets, 138.7ms\n",
      "86: 640x320 3 tweets, 138.7ms\n",
      "87: 640x320 1 more_posted, 3 tweets, 138.7ms\n",
      "88: 640x320 3 tweets, 138.7ms\n",
      "89: 640x320 3 tweets, 138.7ms\n",
      "90: 640x320 3 tweets, 138.7ms\n",
      "91: 640x320 2 tweets, 138.7ms\n",
      "92: 640x320 3 tweets, 138.7ms\n",
      "93: 640x320 2 plus_buttons, 2 tweets, 138.7ms\n",
      "94: 640x320 3 tweets, 138.7ms\n",
      "95: 640x320 2 tweets, 138.7ms\n",
      "96: 640x320 1 more_posted, 1 plus_button, 3 tweets, 1 twitter_bottom_menu, 1 twitter_top_menu, 138.7ms\n",
      "97: 640x320 1 playing_video, 2 tweets, 138.7ms\n",
      "98: 640x320 3 tweets, 138.7ms\n",
      "99: 640x320 1 plus_button, 7 tweets, 138.7ms\n",
      "100: 640x320 1 more_posted, 1 plus_button, 3 tweets, 1 twitter_bottom_menu, 1 twitter_top_menu, 138.7ms\n",
      "101: 640x320 3 tweets, 138.7ms\n",
      "102: 640x320 1 more_posted, 3 tweets, 138.7ms\n",
      "103: 640x320 1 new_posts, 3 tweets, 1 twitter_top_menu, 138.7ms\n",
      "104: 640x320 4 tweets, 1 twitter_top_menu, 138.7ms\n",
      "105: 640x320 1 plus_button, 2 tweets, 1 twitter_bottom_menu, 1 twitter_top_menu, 138.7ms\n",
      "106: 640x320 3 tweets, 138.7ms\n",
      "107: 640x320 2 tweets, 1 twitter_top_menu, 138.7ms\n",
      "108: 640x320 3 tweets, 138.7ms\n",
      "109: 640x320 1 more_posted, 3 tweets, 138.7ms\n",
      "110: 640x320 1 more_posted, 3 tweets, 138.7ms\n",
      "111: 640x320 3 tweets, 138.7ms\n",
      "112: 640x320 1 more_posted, 3 tweets, 138.7ms\n",
      "113: 640x320 4 tweets, 1 twitter_top_menu, 138.7ms\n",
      "114: 640x320 1 playing_video, 3 tweets, 138.7ms\n",
      "115: 640x320 3 tweets, 138.7ms\n",
      "116: 640x320 1 more_posted, 1 plus_button, 2 tweets, 1 twitter_bottom_menu, 1 twitter_top_menu, 138.7ms\n",
      "117: 640x320 1 tweet, 1 twitter_top_menu, 138.7ms\n",
      "118: 640x320 2 tweets, 1 twitter_bottom_menu, 138.7ms\n",
      "119: 640x320 3 tweets, 138.7ms\n",
      "120: 640x320 1 partial_tweet, 3 tweets, 138.7ms\n",
      "121: 640x320 3 tweets, 138.7ms\n",
      "122: 640x320 1 more_posted, 1 plus_button, 3 tweets, 1 twitter_bottom_menu, 1 twitter_top_menu, 138.7ms\n",
      "123: 640x320 3 tweets, 138.7ms\n",
      "124: 640x320 1 plus_button, 4 tweets, 138.7ms\n",
      "125: 640x320 1 playing_video, 3 tweets, 138.7ms\n",
      "126: 640x320 3 tweets, 138.7ms\n",
      "127: 640x320 4 tweets, 138.7ms\n",
      "128: 640x320 2 more_posteds, 1 plus_button, 2 tweets, 1 twitter_bottom_menu, 1 twitter_top_menu, 138.7ms\n",
      "129: 640x320 1 more_posted, 3 tweets, 138.7ms\n",
      "130: 640x320 3 tweets, 138.7ms\n",
      "131: 640x320 2 tweets, 1 twitter_top_menu, 138.7ms\n",
      "132: 640x320 1 more_posted, 3 tweets, 138.7ms\n",
      "133: 640x320 2 tweets, 138.7ms\n",
      "134: 640x320 2 tweets, 138.7ms\n",
      "135: 640x320 1 plus_button, 2 tweets, 1 twitter_bottom_menu, 1 twitter_top_menu, 138.7ms\n",
      "136: 640x320 1 more_posted, 3 tweets, 138.7ms\n",
      "137: 640x320 1 playing_video, 2 tweets, 138.7ms\n",
      "138: 640x320 1 plus_button, 4 tweets, 1 twitter_bottom_menu, 1 twitter_top_menu, 138.7ms\n",
      "139: 640x320 3 tweets, 138.7ms\n",
      "140: 640x320 1 more_posted, 3 tweets, 138.7ms\n",
      "141: 640x320 1 more_posted, 1 plus_button, 2 tweets, 1 twitter_bottom_menu, 1 twitter_top_menu, 138.7ms\n",
      "142: 640x320 1 more_posted, 3 tweets, 138.7ms\n",
      "143: 640x320 1 more_posted, 1 plus_button, 3 tweets, 1 twitter_bottom_menu, 1 twitter_top_menu, 138.7ms\n",
      "144: 640x320 1 plus_button, 2 tweets, 1 twitter_bottom_menu, 1 twitter_top_menu, 138.7ms\n",
      "145: 640x320 1 more_posted, 3 tweets, 138.7ms\n",
      "146: 640x320 3 tweets, 138.7ms\n",
      "147: 640x320 1 more_posted, 1 plus_button, 3 tweets, 1 twitter_bottom_menu, 1 twitter_top_menu, 138.7ms\n",
      "148: 640x320 1 more_posted, 1 plus_button, 2 tweets, 1 twitter_bottom_menu, 1 twitter_top_menu, 138.7ms\n",
      "149: 640x320 1 more_posted, 2 plus_buttons, 2 tweets, 1 twitter_bottom_menu, 1 twitter_top_menu, 138.7ms\n",
      "150: 640x320 2 tweets, 138.7ms\n",
      "151: 640x320 1 plus_button, 4 tweets, 1 twitter_bottom_menu, 1 twitter_top_menu, 138.7ms\n",
      "152: 640x320 3 tweets, 138.7ms\n",
      "153: 640x320 3 tweets, 138.7ms\n",
      "154: 640x320 3 tweets, 138.7ms\n",
      "155: 640x320 1 more_posted, 2 tweets, 138.7ms\n",
      "156: 640x320 2 tweets, 138.7ms\n",
      "157: 640x320 2 tweets, 138.7ms\n",
      "158: 640x320 1 plus_button, 3 tweets, 1 twitter_bottom_menu, 1 twitter_top_menu, 138.7ms\n",
      "159: 640x320 1 more_posted, 3 tweets, 138.7ms\n",
      "160: 640x320 3 tweets, 138.7ms\n",
      "161: 640x320 1 more_posted, 3 tweets, 138.7ms\n",
      "162: 640x320 3 tweets, 138.7ms\n",
      "163: 640x320 1 more_posted, 3 tweets, 138.7ms\n",
      "164: 640x320 1 more_posted, 1 plus_button, 3 tweets, 1 twitter_bottom_menu, 1 twitter_top_menu, 138.7ms\n",
      "165: 640x320 1 more_posted, 3 tweets, 138.7ms\n",
      "166: 640x320 3 tweets, 138.7ms\n",
      "167: 640x320 2 playing_videos, 1 tweet, 138.7ms\n",
      "168: 640x320 2 tweets, 138.7ms\n",
      "169: 640x320 1 more_posted, 3 tweets, 138.7ms\n",
      "170: 640x320 1 more_posted, 1 plus_button, 2 tweets, 1 twitter_bottom_menu, 1 twitter_top_menu, 138.7ms\n",
      "171: 640x320 1 more_posted, 3 tweets, 138.7ms\n",
      "172: 640x320 1 more_posted, 3 tweets, 138.7ms\n",
      "173: 640x320 3 tweets, 138.7ms\n",
      "174: 640x320 1 more_posted, 1 plus_button, 3 tweets, 1 twitter_bottom_menu, 1 twitter_top_menu, 138.7ms\n",
      "175: 640x320 1 more_posted, 1 plus_button, 2 tweets, 1 twitter_bottom_menu, 1 twitter_top_menu, 138.7ms\n",
      "176: 640x320 3 tweets, 138.7ms\n",
      "177: 640x320 1 playing_video, 2 tweets, 138.7ms\n",
      "178: 640x320 3 tweets, 138.7ms\n",
      "179: 640x320 1 plus_button, 3 tweets, 1 twitter_bottom_menu, 1 twitter_top_menu, 138.7ms\n",
      "180: 640x320 1 more_posted, 3 tweets, 1 twitter_top_menu, 138.7ms\n",
      "181: 640x320 1 more_posted, 1 plus_button, 3 tweets, 1 twitter_bottom_menu, 1 twitter_top_menu, 138.7ms\n",
      "182: 640x320 3 tweets, 138.7ms\n",
      "183: 640x320 1 more_posted, 3 tweets, 138.7ms\n",
      "184: 640x320 3 tweets, 138.7ms\n",
      "185: 640x320 3 tweets, 138.7ms\n",
      "186: 640x320 1 more_posted, 1 plus_button, 2 tweets, 1 twitter_bottom_menu, 1 twitter_top_menu, 138.7ms\n",
      "187: 640x320 3 tweets, 138.7ms\n",
      "188: 640x320 1 plus_button, 2 tweets, 1 twitter_bottom_menu, 1 twitter_top_menu, 138.7ms\n",
      "189: 640x320 1 more_posted, 1 plus_button, 2 tweets, 1 twitter_bottom_menu, 1 twitter_top_menu, 138.7ms\n",
      "190: 640x320 2 tweets, 138.7ms\n",
      "191: 640x320 3 tweets, 138.7ms\n",
      "192: 640x320 1 more_posted, 4 tweets, 138.7ms\n",
      "193: 640x320 3 tweets, 138.7ms\n",
      "194: 640x320 1 more_posted, 3 tweets, 138.7ms\n",
      "195: 640x320 3 tweets, 138.7ms\n",
      "196: 640x320 1 playing_video, 3 tweets, 138.7ms\n",
      "197: 640x320 1 plus_button, 3 tweets, 1 twitter_bottom_menu, 1 twitter_top_menu, 138.7ms\n",
      "198: 640x320 1 plus_button, 2 tweets, 1 twitter_bottom_menu, 1 twitter_top_menu, 138.7ms\n",
      "199: 640x320 1 more_posted, 1 plus_button, 3 tweets, 1 twitter_bottom_menu, 1 twitter_top_menu, 138.7ms\n",
      "Speed: 1.6ms preprocess, 138.7ms inference, 0.2ms postprocess per image at shape (1, 3, 640, 320)\n"
     ]
    }
   ],
   "source": [
    "results = trained_model(images)"
   ]
  },
  {
   "cell_type": "code",
   "execution_count": 19,
   "metadata": {},
   "outputs": [],
   "source": [
    "result = results[0]"
   ]
  },
  {
   "cell_type": "code",
   "execution_count": 20,
   "metadata": {},
   "outputs": [
    {
     "name": "stdout",
     "output_type": "stream",
     "text": [
      "tensor([[0.0000, 0.0513, 1.0000, 0.3631]])\n",
      "tensor([[0.0000, 0.3648, 1.0000, 0.9820]])\n"
     ]
    }
   ],
   "source": [
    "for i, box in enumerate(result.boxes):\n",
    "    print(box.xyxyn)"
   ]
  },
  {
   "cell_type": "code",
   "execution_count": 21,
   "metadata": {},
   "outputs": [
    {
     "data": {
      "text/plain": [
       "ultralytics.engine.results.Boxes object with attributes:\n",
       "\n",
       "cls: tensor([10.])\n",
       "conf: tensor([0.9864])\n",
       "data: tensor([[0.0000e+00, 8.7553e+02, 1.0880e+03, 2.3567e+03, 9.8641e-01, 1.0000e+01]])\n",
       "id: None\n",
       "is_track: False\n",
       "orig_shape: (2400, 1088)\n",
       "shape: torch.Size([1, 6])\n",
       "xywh: tensor([[ 544.0000, 1616.1276, 1088.0000, 1481.1868]])\n",
       "xywhn: tensor([[0.5000, 0.6734, 1.0000, 0.6172]])\n",
       "xyxy: tensor([[   0.0000,  875.5342, 1088.0000, 2356.7209]])\n",
       "xyxyn: tensor([[0.0000, 0.3648, 1.0000, 0.9820]])"
      ]
     },
     "execution_count": 21,
     "metadata": {},
     "output_type": "execute_result"
    }
   ],
   "source": [
    "box"
   ]
  },
  {
   "cell_type": "code",
   "execution_count": 60,
   "metadata": {},
   "outputs": [],
   "source": [
    "all_preds = list()"
   ]
  },
  {
   "cell_type": "code",
   "execution_count": 61,
   "metadata": {},
   "outputs": [],
   "source": [
    "for result in results:\n",
    "    image_preds_d = {}\n",
    "    image_path = f\"/data/local-files/?d={result.path}\"\n",
    "    image_preds_d['data'] = {\"image\" : image_path}\n",
    "    predictions_d = {\"model_version\": \"train13\", \"score\": 0.55}\n",
    "    org_width = result.orig_shape[1]\n",
    "    org_height = result.orig_shape[0]\n",
    "    result_d_template = {\"type\": \"rectanglelabels\",        \n",
    "            \"from_name\": \"label\", \"to_name\": \"image\",\n",
    "            \"original_width\": org_width, \"original_height\": org_height,\n",
    "            \"image_rotation\": 0}\n",
    "    converted_results = list()\n",
    "    for i, box in enumerate(result.boxes):\n",
    "        result_d = result_d_template.copy()\n",
    "        result_d['id'] = f\"result{i}\"\n",
    "        value_d = {\"rotation\" : 0,\n",
    "                \"x\" : ((float(box.xyxyn[0][0])) * 100),\n",
    "                \"y\" : (float(box.xyxyn[0][1])) * 100,\n",
    "                \"width\" : ((float(box.xyxyn[0][2]) - float(box.xyxyn[0][0])) * 100), \n",
    "                \"height\": (float(box.xyxyn[0][3]) - float(box.xyxyn[0][1])) * 100, \n",
    "                \"rectanglelabels\": [result.names[int(box.cls[0])]]}\n",
    "        result_d['value'] = value_d\n",
    "        converted_results.append(result_d)\n",
    "        \n",
    "    predictions_d[\"result\"] = converted_results\n",
    "    image_preds_d['predictions'] = [predictions_d]\n",
    "    all_preds.append(image_preds_d)"
   ]
  },
  {
   "cell_type": "code",
   "execution_count": 62,
   "metadata": {},
   "outputs": [],
   "source": [
    "with open(\"rand_upload_2.json\", 'w') as outfile:\n",
    "    json.dump(all_preds, outfile)"
   ]
  },
  {
   "cell_type": "code",
   "execution_count": null,
   "metadata": {},
   "outputs": [],
   "source": []
  },
  {
   "cell_type": "code",
   "execution_count": 1,
   "metadata": {},
   "outputs": [],
   "source": [
    "import sys\n",
    "sys.path.insert(0, \"../\")\n",
    "\n",
    "from annotation_db import HindsightAnnotationsDB"
   ]
  },
  {
   "cell_type": "code",
   "execution_count": 2,
   "metadata": {},
   "outputs": [],
   "source": [
    "annotation_db = HindsightAnnotationsDB()"
   ]
  },
  {
   "cell_type": "code",
   "execution_count": 24,
   "metadata": {},
   "outputs": [],
   "source": [
    "annotations = annotation_db.get_annotations()"
   ]
  },
  {
   "cell_type": "code",
   "execution_count": 25,
   "metadata": {},
   "outputs": [
    {
     "data": {
      "text/html": [
       "<div>\n",
       "<style scoped>\n",
       "    .dataframe tbody tr th:only-of-type {\n",
       "        vertical-align: middle;\n",
       "    }\n",
       "\n",
       "    .dataframe tbody tr th {\n",
       "        vertical-align: top;\n",
       "    }\n",
       "\n",
       "    .dataframe thead th {\n",
       "        text-align: right;\n",
       "    }\n",
       "</style>\n",
       "<table border=\"1\" class=\"dataframe\">\n",
       "  <thead>\n",
       "    <tr style=\"text-align: right;\">\n",
       "      <th></th>\n",
       "      <th>id</th>\n",
       "      <th>frame_id</th>\n",
       "      <th>x</th>\n",
       "      <th>y</th>\n",
       "      <th>w</th>\n",
       "      <th>h</th>\n",
       "      <th>rotation</th>\n",
       "      <th>label</th>\n",
       "      <th>conf</th>\n",
       "      <th>model_name</th>\n",
       "      <th>model_version</th>\n",
       "    </tr>\n",
       "  </thead>\n",
       "  <tbody>\n",
       "  </tbody>\n",
       "</table>\n",
       "</div>"
      ],
      "text/plain": [
       "Empty DataFrame\n",
       "Columns: [id, frame_id, x, y, w, h, rotation, label, conf, model_name, model_version]\n",
       "Index: []"
      ]
     },
     "execution_count": 25,
     "metadata": {},
     "output_type": "execute_result"
    }
   ],
   "source": [
    "annotations"
   ]
  },
  {
   "cell_type": "code",
   "execution_count": null,
   "metadata": {},
   "outputs": [],
   "source": []
  }
 ],
 "metadata": {
  "kernelspec": {
   "display_name": "hindsight_exp",
   "language": "python",
   "name": "python3"
  },
  "language_info": {
   "codemirror_mode": {
    "name": "ipython",
    "version": 3
   },
   "file_extension": ".py",
   "mimetype": "text/x-python",
   "name": "python",
   "nbconvert_exporter": "python",
   "pygments_lexer": "ipython3",
   "version": "3.10.14"
  }
 },
 "nbformat": 4,
 "nbformat_minor": 2
}
