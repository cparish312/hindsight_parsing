{
 "cells": [
  {
   "cell_type": "markdown",
   "metadata": {},
   "source": [
    "# Notebook to modify a training set"
   ]
  },
  {
   "cell_type": "code",
   "execution_count": 4,
   "metadata": {},
   "outputs": [],
   "source": [
    "import os\n",
    "import yaml"
   ]
  },
  {
   "cell_type": "code",
   "execution_count": 26,
   "metadata": {},
   "outputs": [],
   "source": [
    "def make_dir(d):\n",
    "    if not os.path.exists(d):\n",
    "        os.makedirs(d)"
   ]
  },
  {
   "cell_type": "code",
   "execution_count": 25,
   "metadata": {},
   "outputs": [],
   "source": [
    "datasets_dir = \"../data/annotations/twitter/\"\n",
    "\n",
    "old_dataset_dir = os.path.join(datasets_dir, \"twitter-2024-09-10-16-26-edf2ddd4\")\n",
    "config_f = os.path.join(old_dataset_dir, \"train_config.yaml\")"
   ]
  },
  {
   "cell_type": "code",
   "execution_count": 10,
   "metadata": {},
   "outputs": [],
   "source": [
    "with open(config_f, 'r') as infile:\n",
    "    config_d = yaml.safe_load(infile)"
   ]
  },
  {
   "cell_type": "code",
   "execution_count": 11,
   "metadata": {},
   "outputs": [
    {
     "data": {
      "text/plain": [
       "{'path': '/Users/connorparish/code/hindsight_annotation/data/annotations/twitter/twitter-2024-09-10-16-26-edf2ddd4',\n",
       " 'train': 'images',\n",
       " 'val': 'images',\n",
       " 'names': {0: 'discover_new_communities',\n",
       "  1: 'more_posted',\n",
       "  2: 'new_posts',\n",
       "  3: 'partial_tweet',\n",
       "  4: 'plus_button',\n",
       "  5: 'quoted_tweet',\n",
       "  6: 'tweet',\n",
       "  7: 'tweet_ad'}}"
      ]
     },
     "execution_count": 11,
     "metadata": {},
     "output_type": "execute_result"
    }
   ],
   "source": [
    "config_d"
   ]
  },
  {
   "cell_type": "code",
   "execution_count": 35,
   "metadata": {},
   "outputs": [],
   "source": [
    "new_dataset_name = \"twitter-2024-09-10-16-26-edf2ddd4-scrolling_entity\"\n",
    "new_dataset_dir = os.path.join(datasets_dir, new_dataset_name)\n",
    "make_dir(new_dataset_dir)"
   ]
  },
  {
   "cell_type": "code",
   "execution_count": 36,
   "metadata": {},
   "outputs": [],
   "source": [
    "class_mappings = {0 : \"scrolling_entity\", 1: None, 2: None, 3: \"scrolling_entity\", 4: None, 5: None, 6: \"scrolling_entity\",\n",
    "                  7: \"scrolling_entity\"}\n",
    "new_names_d = {0: 'scolling_entity'}\n",
    "old_id_to_new_id = {0: 0, 3: 0, 6: 0, 7: 0}"
   ]
  },
  {
   "cell_type": "code",
   "execution_count": 37,
   "metadata": {},
   "outputs": [],
   "source": [
    "new_config_d = config_d.copy()\n",
    "new_config_d['path'] = os.path.abspath(new_dataset_dir)\n",
    "new_config_d['names'] = new_names_d\n",
    "with open(os.path.join(new_dataset_dir, \"train_config.yaml\"), 'w') as outfile:\n",
    "    yaml.dump(new_config_d, outfile)"
   ]
  },
  {
   "cell_type": "code",
   "execution_count": 38,
   "metadata": {},
   "outputs": [],
   "source": [
    "# copy images"
   ]
  },
  {
   "cell_type": "code",
   "execution_count": 39,
   "metadata": {},
   "outputs": [],
   "source": [
    "old_labels_dir = os.path.join(old_dataset_dir, \"labels\")\n",
    "new_labels_dir = os.path.join(new_dataset_dir, \"labels\")\n",
    "make_dir(new_labels_dir)\n",
    "for label_f in os.listdir(old_labels_dir):\n",
    "    new_label_data = list()\n",
    "    with open(os.path.join(old_labels_dir, label_f), 'r') as infile:\n",
    "        for line in infile.readlines():\n",
    "            line_s = line.split(\" \")\n",
    "            label_id = int(line_s[0])\n",
    "            if label_id in old_id_to_new_id:\n",
    "                new_line = \" \".join([str(old_id_to_new_id[label_id]), line_s[1], line_s[2], line_s[3], line_s[4]])\n",
    "                new_label_data.append(new_line)\n",
    "    \n",
    "    new_label_f = os.path.join(new_labels_dir, label_f)\n",
    "    with open(new_label_f, 'w') as outfile:\n",
    "        for new_line in new_label_data:\n",
    "            outfile.write(new_line + \"\\n\")\n"
   ]
  },
  {
   "cell_type": "code",
   "execution_count": null,
   "metadata": {},
   "outputs": [],
   "source": []
  }
 ],
 "metadata": {
  "kernelspec": {
   "display_name": "hindsight_exp",
   "language": "python",
   "name": "python3"
  },
  "language_info": {
   "codemirror_mode": {
    "name": "ipython",
    "version": 3
   },
   "file_extension": ".py",
   "mimetype": "text/x-python",
   "name": "python",
   "nbconvert_exporter": "python",
   "pygments_lexer": "ipython3",
   "version": "3.9.18"
  }
 },
 "nbformat": 4,
 "nbformat_minor": 2
}
